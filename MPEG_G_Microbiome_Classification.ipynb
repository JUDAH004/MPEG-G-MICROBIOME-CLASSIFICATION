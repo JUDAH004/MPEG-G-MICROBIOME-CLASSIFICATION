{
  "cells": [
    {
      "cell_type": "markdown",
      "id": "03a9ca52-b665-4387-86ab-90a6a4ac1bda",
      "metadata": {
        "id": "03a9ca52-b665-4387-86ab-90a6a4ac1bda"
      },
      "source": [
        "# **🧬 MPEG-G Microbiome Classification**\n",
        "## **Introduction**\n",
        "\n",
        "The human microbiome—an intricate community of microorganisms across different body sites—plays a key role in our health. These microbial populations vary widely by location, such as the gut, skin, mouth, or nasal passages. Accurately identifying where a microbiome sample comes from can enhance our understanding of disease mechanisms, immunity, and personalized treatment.\n",
        "\n",
        "## **Business Understanding**\n",
        "This project aims to build a machine learning model that classifies microbiome samples by body site using 16S rRNA sequence data stored in MPEG-G format, along with metadata and cytokine profiles when available. Beyond traditional modeling, we also explore federated learning to allow collaborative training across institutions without compromising data privacy.\n",
        "### **1. Business Problem**\n",
        "The core problem this project addresses is the development of an accurate and efficient classification model that can determine the body site from which a microbiome sample originates\n",
        "### **2.Business Objective**\n",
        "  - Accelerate diagnostic capabilities by developing a reliable machine learning model to classify biological samples based on their sequencing data, enabling faster identification of sample origins.\n",
        "\n",
        "  -  Support clinical decision-making by providing accurate predictions that can guide further laboratory analysis, reducing reliance on lengthy and expensive traditional tests.\n",
        "\n",
        "  - Enhance research efficiency through automation of sample classification, freeing up specialist time for higher-value tasks such as investigating novel biomarkers.\n",
        "\n",
        "  - Enable scalable analysis of large volumes of genomic data without proportional increases in manpower or cost, making population-scale microbiome studies more feasible.\n",
        "\n",
        "  - Strengthen early detection and prevention strategies by improving the ability to monitor and track microbiome shifts linked to health conditions or environmental changes.\n",
        "\n",
        "  - Demonstrate the potential of AI-driven microbiome analytics in supporting public health initiatives, such as outbreak tracing or gut health research, by delivering actionable classification results.\n",
        "  \n",
        "### **3. Stakeholders**\n",
        "  - Bioinformatics researchers\n",
        "  - Clinical microbiologists\n",
        "  - Genomics data scientists\n",
        "\n",
        "## **Data Understanding**\n",
        "\n",
        "This project uses data from the **MPEG-G Microbiome Classification Challenge** on Zindi, consisting of 2,901 training and 1,068 test samples. The core data includes MPEG-G compressed 16S rRNA sequences (.mgb files), decoded into .fastq.gz format for analysis. These are paired with tabular metadata: Train.csv (with body site labels), Test.csv (without labels), Train_Subjects.csv (age, sex, insulin sensitivity), and optionally cytokine_profiles.csv (immune markers).\n",
        "\n",
        "Each sample represents a microbiome collected from one of four body sites: Nasal, Mouth, Skin, or Stool. The goal is to classify the origin of each sample using engineered features from sequences and participant metadata. The dataset is stratified by participant and insulin sensitivity, ensuring a balanced distribution. This project is unique in combining privacy-aware federated learning with real-world genomic compression (MPEG-G) for medical ML applications.\n",
        "\n",
        "## **Data Preparation**\n",
        "To prepare the data for modeling, we began by decoding the .mgb (MPEG-G) files into .fastq.gz format using Docker and the open-source Genie tool, which is tailored for handling MPEG-G genomic data. Docker ensures a consistent environment for running Genie across different systems, avoiding dependency conflicts. The decoding process was necessary because most bioinformatics tools work with standard formats like FASTQ. Once decoded, the .fastq.gz files are organized and processed to extract read-level features such as read length, nucleotide distribution, and GC content, which will serve as input for machine learning models.\n"
      ]
    },
    {
      "cell_type": "markdown",
      "id": "sz7nmWxJSkQv",
      "metadata": {
        "id": "sz7nmWxJSkQv"
      },
      "source": [
        "### **1. Decompress MPEG-G Files**"
      ]
    },
    {
      "cell_type": "code",
      "execution_count": 1,
      "id": "MDl0Sp9jIbiY",
      "metadata": {
        "id": "MDl0Sp9jIbiY"
      },
      "outputs": [],
      "source": [
        "# %pip install Bio (provides essential tools for parsing, analyzing, and processing biological sequence data, especially FASTQ files)"
      ]
    },
    {
      "cell_type": "code",
      "execution_count": 2,
      "id": "_ooPieXaItcG",
      "metadata": {
        "colab": {
          "base_uri": "https://localhost:8080/",
          "height": 35
        },
        "id": "_ooPieXaItcG",
        "outputId": "b172a564-c129-46fb-fb48-12b11812b5a8"
      },
      "outputs": [
        {
          "data": {
            "text/plain": [
              "'\\nimport os\\nimport zipfile\\nimport subprocess\\nimport shutil\\nfrom Bio import SeqIO\\nfrom collections import Counter\\n'"
            ]
          },
          "execution_count": 2,
          "metadata": {},
          "output_type": "execute_result"
        }
      ],
      "source": [
        " # Import packages\n",
        "\"\"\"\n",
        "import os\n",
        "import zipfile\n",
        "import subprocess\n",
        "import shutil\n",
        "from Bio import SeqIO\n",
        "from collections import Counter\n",
        "\"\"\""
      ]
    },
    {
      "cell_type": "code",
      "execution_count": 3,
      "id": "-9V1VxeVJwCb",
      "metadata": {
        "id": "-9V1VxeVJwCb"
      },
      "outputs": [
        {
          "data": {
            "text/plain": [
              "'\\n✅ Successfully extracted C:\\\\Users\\\\JUDAH\\\\Downloads\\\\TrainFiles.zip to ././train/\\n✅ Successfully extracted C:\\\\Users\\\\JUDAH\\\\Downloads\\\\TestFiles.zip to ././test/\\n'"
            ]
          },
          "execution_count": 3,
          "metadata": {},
          "output_type": "execute_result"
        }
      ],
      "source": [
        "# Extract Train and Test files (mpeg zipped files)\n",
        "\"\"\"\n",
        "print(os.listdir('.')) #( lists all thefiles and directories in the current working directory, and prints them files and directories in the current working directory, and prints them)\n",
        " # Define zip files and corresponding output directories\n",
        "zip_targets = {\n",
        "    r\"C:\\\\Users\\\\JUDAH\\\\Downloads\\\\TrainFiles.zip\": './train',\n",
        "    r\"C:\\\\Users\\\\JUDAH\\\\Downloads\\\\TestFiles.zip\": './test'\n",
        "}\n",
        "\n",
        "for zip_path, extract_to in zip_targets.items():\n",
        "    # Create the output directory if it doesn't exist\n",
        "    os.makedirs(extract_to, exist_ok=True)\n",
        "\n",
        "    try:\n",
        "        # Use shutil to extract\n",
        "        shutil.unpack_archive(zip_path, extract_to, format='zip')\n",
        "        print(f\"✅ Successfully extracted {zip_path} to ./{extract_to}/\")\n",
        "    except Exception as e:\n",
        "        print(f\"❌ Failed to extract {zip_path}: {e}\")\n",
        "\"\"\"\n",
        "# Output\n",
        "\"\"\"\n",
        "✅ Successfully extracted C:\\\\Users\\\\JUDAH\\\\Downloads\\\\TrainFiles.zip to ././train/\n",
        "✅ Successfully extracted C:\\\\Users\\\\JUDAH\\\\Downloads\\\\TestFiles.zip to ././test/\n",
        "\"\"\"\n"
      ]
    },
    {
      "cell_type": "code",
      "execution_count": 4,
      "id": "p2N2NqdAPjL5",
      "metadata": {
        "colab": {
          "base_uri": "https://localhost:8080/",
          "height": 139
        },
        "id": "p2N2NqdAPjL5",
        "outputId": "4031d38f-ada7-4cd2-d268-70a3be5d8c15"
      },
      "outputs": [
        {
          "data": {
            "text/plain": [
              "'\\ndef decode_all_mgb_in_folder(folder_name):\\n    host_dir = os.path.join(notebook_dir, folder_name)\\n\\n    for mgb_filename in os.listdir(host_dir):\\n        if not mgb_filename.endswith(\".mgb\"):\\n            continue\\n\\n        mgb_path = os.path.join(host_dir, mgb_filename)\\n        mgb_filename_no_ext = os.path.splitext(mgb_filename)[0]\\n        fastq_path = os.path.join(host_dir, f\"{mgb_filename_no_ext}.fastq\")\\n        fastq_gz_path = f\"{fastq_path}.gz\"\\n\\n        command = [\\n            \"docker\", \"run\", \"--rm\",\\n            \"-v\", f\"{host_dir}:{container_dir}\",\\n            \"muefab/genie:latest\", \"run\",\\n            \"-f\",\\n            \"-i\", f\"{container_dir}/{mgb_filename}\",\\n            \"-o\", f\"{container_dir}/{mgb_filename_no_ext}.fastq\"\\n        ]\\n\\n        subprocess.run(command, stdout=subprocess.DEVNULL, stderr=subprocess.DEVNULL)\\n\\n        if not os.path.exists(fastq_path):\\n            print(f\"[Error] FASTQ not created: {mgb_filename}\")\\n            continue\\n\\n        try:\\n            with open(fastq_path, \"rb\") as f_in, gzip.open(fastq_gz_path, \"wb\") as f_out:\\n                shutil.copyfileobj(f_in, f_out)\\n        except Exception as e:\\n            print(f\"[Error] Compression failed: {mgb_filename} - {str(e)}\")\\n            continue\\n\\n        os.remove(mgb_path)# delete the original `.mgb` file\\n        os.remove(fastq_path) #delete the uncompressed FASTQ file\\n\\n        print(f\"[OK] {mgb_filename} → {os.path.basename(fastq_gz_path)}\")\\n\\n        '"
            ]
          },
          "execution_count": 4,
          "metadata": {},
          "output_type": "execute_result"
        }
      ],
      "source": [
        "# A function to decode the mgb files\n",
        "# Set base directories\n",
        "\"\"\"\n",
        "notebook_dir = os.getcwd()\n",
        "container_dir = \"/data\"\n",
        "\"\"\"\n",
        "# Function to decode all `.mgb` files in their respective folder\n",
        "\"\"\"\n",
        "def decode_all_mgb_in_folder(folder_name):\n",
        "    host_dir = os.path.join(notebook_dir, folder_name)\n",
        "\n",
        "    for mgb_filename in os.listdir(host_dir):\n",
        "        if not mgb_filename.endswith(\".mgb\"):\n",
        "            continue\n",
        "\n",
        "        mgb_path = os.path.join(host_dir, mgb_filename)\n",
        "        mgb_filename_no_ext = os.path.splitext(mgb_filename)[0]\n",
        "        fastq_path = os.path.join(host_dir, f\"{mgb_filename_no_ext}.fastq\")\n",
        "        fastq_gz_path = f\"{fastq_path}.gz\"\n",
        "\n",
        "        command = [\n",
        "            \"docker\", \"run\", \"--rm\",\n",
        "            \"-v\", f\"{host_dir}:{container_dir}\",\n",
        "            \"muefab/genie:latest\", \"run\",\n",
        "            \"-f\",\n",
        "            \"-i\", f\"{container_dir}/{mgb_filename}\",\n",
        "            \"-o\", f\"{container_dir}/{mgb_filename_no_ext}.fastq\"\n",
        "        ]\n",
        "\n",
        "        subprocess.run(command, stdout=subprocess.DEVNULL, stderr=subprocess.DEVNULL)\n",
        "\n",
        "        if not os.path.exists(fastq_path):\n",
        "            print(f\"[Error] FASTQ not created: {mgb_filename}\")\n",
        "            continue\n",
        "\n",
        "        try:\n",
        "            with open(fastq_path, \"rb\") as f_in, gzip.open(fastq_gz_path, \"wb\") as f_out:\n",
        "                shutil.copyfileobj(f_in, f_out)\n",
        "        except Exception as e:\n",
        "            print(f\"[Error] Compression failed: {mgb_filename} - {str(e)}\")\n",
        "            continue\n",
        "\n",
        "        os.remove(mgb_path)# delete the original `.mgb` file\n",
        "        os.remove(fastq_path) #delete the uncompressed FASTQ file\n",
        "\n",
        "        print(f\"[OK] {mgb_filename} → {os.path.basename(fastq_gz_path)}\")\n",
        "\n",
        "        \"\"\""
      ]
    },
    {
      "cell_type": "code",
      "execution_count": 5,
      "id": "5y3k_7zdRNvX",
      "metadata": {
        "id": "5y3k_7zdRNvX"
      },
      "outputs": [
        {
          "data": {
            "text/plain": [
              "'\\n[OK] ID_AAFNOT.mgb → ID_AAFNOT.fastq.gz\\n[OK] ID_AAXPTO.mgb → ID_AAXPTO.fastq.gz\\n[OK] ID_AAYKAN.mgb → ID_AAYKAN.fastq.gz\\n[OK] ID_ABEZNS.mgb → ID_ABEZNS.fastq.gz\\n[OK] ID_ABFFLP.mgb → ID_ABFFLP.fastq.gz\\n[OK] ID_ABFQPG.mgb → ID_ABFQPG.fastq.gz\\n[OK] ID_ABMLPB.mgb → ID_ABMLPB.fastq.gz\\n[OK] ID_ABOEMW.mgb → ID_ABOEMW.fastq.gz\\n[OK] ID_ABRMNZ.mgb → ID_ABRMNZ.fastq.gz\\n'"
            ]
          },
          "execution_count": 5,
          "metadata": {},
          "output_type": "execute_result"
        }
      ],
      "source": [
        "# Use function on the mpg files\n",
        "\"\"\"\n",
        "decode_all_mgb_in_folder(r\"C:\\\\Users\\\\JUDAH\\\\Desktop\\\\Mircobiome MPEG\\\\train\\\\TrainFiles\")\n",
        "decode_all_mgb_in_folder(r\"C:\\\\Users\\\\JUDAH\\\\Desktop\\\\Mircobiome MPEG\\\\test\\\\TestFiles\")\n",
        "\"\"\"\n",
        "# Sample Output\n",
        "\"\"\"\n",
        "[OK] ID_AAFNOT.mgb → ID_AAFNOT.fastq.gz\n",
        "[OK] ID_AAXPTO.mgb → ID_AAXPTO.fastq.gz\n",
        "[OK] ID_AAYKAN.mgb → ID_AAYKAN.fastq.gz\n",
        "[OK] ID_ABEZNS.mgb → ID_ABEZNS.fastq.gz\n",
        "[OK] ID_ABFFLP.mgb → ID_ABFFLP.fastq.gz\n",
        "[OK] ID_ABFQPG.mgb → ID_ABFQPG.fastq.gz\n",
        "[OK] ID_ABMLPB.mgb → ID_ABMLPB.fastq.gz\n",
        "[OK] ID_ABOEMW.mgb → ID_ABOEMW.fastq.gz\n",
        "[OK] ID_ABRMNZ.mgb → ID_ABRMNZ.fastq.gz\n",
        "\"\"\""
      ]
    },
    {
      "cell_type": "markdown",
      "id": "vReuU9T7HXGM",
      "metadata": {
        "id": "vReuU9T7HXGM"
      },
      "source": [
        "### **2. Exploratory Data Analysis**\n",
        "\n"
      ]
    },
    {
      "cell_type": "code",
      "execution_count": 6,
      "id": "9MUA5KLFntJZ",
      "metadata": {
        "colab": {
          "base_uri": "https://localhost:8080/"
        },
        "id": "9MUA5KLFntJZ",
        "outputId": "e0ba5ec3-b6b7-4937-9e5d-3044705efc28"
      },
      "outputs": [],
      "source": [
        "#%pip install Bio "
      ]
    },
    {
      "cell_type": "markdown",
      "id": "VUVfuOIqTMV0",
      "metadata": {
        "id": "VUVfuOIqTMV0"
      },
      "source": [
        "####  **Load Datasets**"
      ]
    },
    {
      "cell_type": "code",
      "execution_count": 7,
      "id": "drsxMlhEZ1MG",
      "metadata": {
        "id": "drsxMlhEZ1MG"
      },
      "outputs": [],
      "source": [
        "# Import packages\n",
        "import os\n",
        "import zipfile\n",
        "import subprocess\n",
        "import random\n",
        "import pandas as pd\n",
        "import numpy as np\n",
        "import matplotlib.pyplot as plt\n",
        "import seaborn as sns\n",
        "import shutil\n",
        "import time\n",
        "import gzip\n",
        "from Bio import SeqIO\n",
        "from tqdm import tqdm\n",
        "import shap\n",
        "from Bio import SeqIO\n",
        "from collections import Counter\n",
        "\n",
        "from sklearn.model_selection import train_test_split\n",
        "from sklearn.preprocessing import LabelEncoder\n",
        "from sklearn.ensemble import RandomForestClassifier\n",
        "from sklearn.preprocessing import StandardScaler\n",
        "from xgboost import XGBClassifier\n",
        "import lightgbm as lgb\n",
        "from sklearn.decomposition import PCA\n",
        "from sklearn.manifold import TSNE\n",
        "from sklearn.model_selection import GridSearchCV\n",
        "from sklearn.metrics import classification_report, accuracy_score ,roc_auc_score, roc_curve, auc\n",
        "from sklearn.preprocessing import label_binarize\n",
        "\n",
        "# Errors ignore\n",
        "import warnings\n",
        "warnings.filterwarnings('ignore')"
      ]
    },
    {
      "cell_type": "code",
      "execution_count": 8,
      "id": "de63a169-f265-402e-aa44-a16a7165e4e2",
      "metadata": {
        "id": "de63a169-f265-402e-aa44-a16a7165e4e2"
      },
      "outputs": [
        {
          "name": "stdout",
          "output_type": "stream",
          "text": [
            "Training data shape after merge: (2901, 92)\n",
            "Test data shape after merge: (1068, 1)\n"
          ]
        },
        {
          "data": {
            "text/html": [
              "<div>\n",
              "<style scoped>\n",
              "    .dataframe tbody tr th:only-of-type {\n",
              "        vertical-align: middle;\n",
              "    }\n",
              "\n",
              "    .dataframe tbody tr th {\n",
              "        vertical-align: top;\n",
              "    }\n",
              "\n",
              "    .dataframe thead th {\n",
              "        text-align: right;\n",
              "    }\n",
              "</style>\n",
              "<table border=\"1\" class=\"dataframe\">\n",
              "  <thead>\n",
              "    <tr style=\"text-align: right;\">\n",
              "      <th></th>\n",
              "      <th>filename</th>\n",
              "      <th>SampleType</th>\n",
              "      <th>SubjectID</th>\n",
              "      <th>SampleID</th>\n",
              "      <th>FPG_Mean</th>\n",
              "      <th>FPG_class</th>\n",
              "      <th>IRIS</th>\n",
              "      <th>SSPG</th>\n",
              "      <th>FPG</th>\n",
              "      <th>SSPG.Date</th>\n",
              "      <th>...</th>\n",
              "      <th>ENA78</th>\n",
              "      <th>CHEX1</th>\n",
              "      <th>CHEX2</th>\n",
              "      <th>CHEX3</th>\n",
              "      <th>CHEX4</th>\n",
              "      <th>CollectionDate</th>\n",
              "      <th>CL1</th>\n",
              "      <th>CL2</th>\n",
              "      <th>CL3</th>\n",
              "      <th>CL4</th>\n",
              "    </tr>\n",
              "  </thead>\n",
              "  <tbody>\n",
              "    <tr>\n",
              "      <th>0</th>\n",
              "      <td>ID_LETPJN.mgb</td>\n",
              "      <td>Stool</td>\n",
              "      <td>Subject_BCUNIB</td>\n",
              "      <td>Sample_AFTIWE</td>\n",
              "      <td>1.063333</td>\n",
              "      <td>Prediabetes</td>\n",
              "      <td>Unknown</td>\n",
              "      <td>NaN</td>\n",
              "      <td>NaN</td>\n",
              "      <td>NaN</td>\n",
              "      <td>...</td>\n",
              "      <td>260.803223</td>\n",
              "      <td>10348.221434</td>\n",
              "      <td>615.135794</td>\n",
              "      <td>1145.764405</td>\n",
              "      <td>15.090773</td>\n",
              "      <td>1/28/16</td>\n",
              "      <td>NaN</td>\n",
              "      <td>NaN</td>\n",
              "      <td>NaN</td>\n",
              "      <td>Healthy</td>\n",
              "    </tr>\n",
              "    <tr>\n",
              "      <th>1</th>\n",
              "      <td>ID_NTDGIW.mgb</td>\n",
              "      <td>Stool</td>\n",
              "      <td>Subject_UDAXIH</td>\n",
              "      <td>Sample_JQJVNK</td>\n",
              "      <td>1.274432</td>\n",
              "      <td>Diabetes</td>\n",
              "      <td>IS</td>\n",
              "      <td>91.5</td>\n",
              "      <td>131.75</td>\n",
              "      <td>8/7/14</td>\n",
              "      <td>...</td>\n",
              "      <td>NaN</td>\n",
              "      <td>NaN</td>\n",
              "      <td>NaN</td>\n",
              "      <td>NaN</td>\n",
              "      <td>NaN</td>\n",
              "      <td>NaN</td>\n",
              "      <td>NaN</td>\n",
              "      <td>NaN</td>\n",
              "      <td>NaN</td>\n",
              "      <td>NaN</td>\n",
              "    </tr>\n",
              "    <tr>\n",
              "      <th>2</th>\n",
              "      <td>ID_ZISBMF.mgb</td>\n",
              "      <td>Nasal</td>\n",
              "      <td>Subject_VRKADI</td>\n",
              "      <td>Sample_YJWGWW</td>\n",
              "      <td>0.899545</td>\n",
              "      <td>Normal</td>\n",
              "      <td>IR</td>\n",
              "      <td>220.0</td>\n",
              "      <td>95.00</td>\n",
              "      <td>12/18/12</td>\n",
              "      <td>...</td>\n",
              "      <td>NaN</td>\n",
              "      <td>NaN</td>\n",
              "      <td>NaN</td>\n",
              "      <td>NaN</td>\n",
              "      <td>NaN</td>\n",
              "      <td>NaN</td>\n",
              "      <td>NaN</td>\n",
              "      <td>NaN</td>\n",
              "      <td>NaN</td>\n",
              "      <td>NaN</td>\n",
              "    </tr>\n",
              "    <tr>\n",
              "      <th>3</th>\n",
              "      <td>ID_MDCVXU.mgb</td>\n",
              "      <td>Nasal</td>\n",
              "      <td>Subject_HIFZWD</td>\n",
              "      <td>Sample_VKEHZP</td>\n",
              "      <td>0.800000</td>\n",
              "      <td>Normal</td>\n",
              "      <td>IR</td>\n",
              "      <td>235.0</td>\n",
              "      <td>100.00</td>\n",
              "      <td>5/30/12</td>\n",
              "      <td>...</td>\n",
              "      <td>330.895379</td>\n",
              "      <td>10184.682491</td>\n",
              "      <td>660.826952</td>\n",
              "      <td>1176.694165</td>\n",
              "      <td>15.096921</td>\n",
              "      <td>10/24/14</td>\n",
              "      <td>D3</td>\n",
              "      <td>flu</td>\n",
              "      <td>Imz_Middle</td>\n",
              "      <td>Imz</td>\n",
              "    </tr>\n",
              "    <tr>\n",
              "      <th>4</th>\n",
              "      <td>ID_SWAMNY.mgb</td>\n",
              "      <td>Stool</td>\n",
              "      <td>Subject_VGLNCV</td>\n",
              "      <td>Sample_NTDTEQ</td>\n",
              "      <td>0.882667</td>\n",
              "      <td>Normal</td>\n",
              "      <td>IR</td>\n",
              "      <td>162.0</td>\n",
              "      <td>99.00</td>\n",
              "      <td>10/21/13</td>\n",
              "      <td>...</td>\n",
              "      <td>304.064072</td>\n",
              "      <td>9424.953170</td>\n",
              "      <td>741.731826</td>\n",
              "      <td>1259.429265</td>\n",
              "      <td>14.277080</td>\n",
              "      <td>2/20/15</td>\n",
              "      <td>NaN</td>\n",
              "      <td>NaN</td>\n",
              "      <td>NaN</td>\n",
              "      <td>Healthy</td>\n",
              "    </tr>\n",
              "  </tbody>\n",
              "</table>\n",
              "<p>5 rows × 92 columns</p>\n",
              "</div>"
            ],
            "text/plain": [
              "        filename SampleType       SubjectID       SampleID  FPG_Mean  \\\n",
              "0  ID_LETPJN.mgb      Stool  Subject_BCUNIB  Sample_AFTIWE  1.063333   \n",
              "1  ID_NTDGIW.mgb      Stool  Subject_UDAXIH  Sample_JQJVNK  1.274432   \n",
              "2  ID_ZISBMF.mgb      Nasal  Subject_VRKADI  Sample_YJWGWW  0.899545   \n",
              "3  ID_MDCVXU.mgb      Nasal  Subject_HIFZWD  Sample_VKEHZP  0.800000   \n",
              "4  ID_SWAMNY.mgb      Stool  Subject_VGLNCV  Sample_NTDTEQ  0.882667   \n",
              "\n",
              "     FPG_class     IRIS   SSPG     FPG SSPG.Date  ...       ENA78  \\\n",
              "0  Prediabetes  Unknown    NaN     NaN       NaN  ...  260.803223   \n",
              "1     Diabetes       IS   91.5  131.75    8/7/14  ...         NaN   \n",
              "2       Normal       IR  220.0   95.00  12/18/12  ...         NaN   \n",
              "3       Normal       IR  235.0  100.00   5/30/12  ...  330.895379   \n",
              "4       Normal       IR  162.0   99.00  10/21/13  ...  304.064072   \n",
              "\n",
              "          CHEX1       CHEX2        CHEX3      CHEX4  CollectionDate  CL1  CL2  \\\n",
              "0  10348.221434  615.135794  1145.764405  15.090773         1/28/16  NaN  NaN   \n",
              "1           NaN         NaN          NaN        NaN             NaN  NaN  NaN   \n",
              "2           NaN         NaN          NaN        NaN             NaN  NaN  NaN   \n",
              "3  10184.682491  660.826952  1176.694165  15.096921        10/24/14   D3  flu   \n",
              "4   9424.953170  741.731826  1259.429265  14.277080         2/20/15  NaN  NaN   \n",
              "\n",
              "          CL3      CL4  \n",
              "0         NaN  Healthy  \n",
              "1         NaN      NaN  \n",
              "2         NaN      NaN  \n",
              "3  Imz_Middle      Imz  \n",
              "4         NaN  Healthy  \n",
              "\n",
              "[5 rows x 92 columns]"
            ]
          },
          "execution_count": 8,
          "metadata": {},
          "output_type": "execute_result"
        }
      ],
      "source": [
        "# Read in CSV files\n",
        "train_df = pd.read_csv(r\".\\Other Files\\Train.csv\")\n",
        "test_df = pd.read_csv(r\".\\Other Files\\Test.csv\")\n",
        "train_subjects_df = pd.read_csv(r\".\\Other Files\\Train_Subjects.csv\") \n",
        "ss = pd.read_csv(r\".\\Other Files\\SampleSubmission.csv\")\n",
        "cytokine_df = pd.read_csv(r\".\\Other Files\\cytokine_profiles.csv\")\n",
        "\n",
        "# Merge training data\n",
        "train_full_df = pd.merge(train_df, train_subjects_df, on='SubjectID', how='left')\n",
        "train_full_df = pd.merge(train_full_df, cytokine_df, on='SampleID', how='left')\n",
        "\n",
        "print(\"Training data shape after merge:\", train_full_df.shape)\n",
        "print(\"Test data shape after merge:\", test_df.shape)\n",
        "\n",
        "train_full_df.head()\n"
      ]
    },
    {
      "cell_type": "code",
      "execution_count": 9,
      "id": "564d2c3d",
      "metadata": {},
      "outputs": [
        {
          "name": "stdout",
          "output_type": "stream",
          "text": [
            "filename             0\n",
            "SampleType           0\n",
            "SubjectID            0\n",
            "SampleID             0\n",
            "FPG_Mean             0\n",
            "                  ... \n",
            "CollectionDate     919\n",
            "CL1               2206\n",
            "CL2               2603\n",
            "CL3               2247\n",
            "CL4                919\n",
            "Length: 92, dtype: int64\n"
          ]
        }
      ],
      "source": [
        "#Check for missing values\n",
        "print(train_full_df.isnull().sum())\n"
      ]
    },
    {
      "cell_type": "code",
      "execution_count": 10,
      "id": "7647f2cf",
      "metadata": {},
      "outputs": [],
      "source": [
        "# Drop Columns with more than 50% missing values\n",
        "train_full_df.drop(columns=['CL1', 'CL2', 'CL3', 'CL4'], inplace=True)\n"
      ]
    },
    {
      "cell_type": "code",
      "execution_count": 11,
      "id": "b7cb8770",
      "metadata": {},
      "outputs": [],
      "source": [
        "#Drop collectionDate \n",
        "train_full_df.drop(columns=['CollectionDate'], inplace=True)\n"
      ]
    },
    {
      "cell_type": "markdown",
      "id": "1b9128a4-d136-4394-9860-6a6396347f8e",
      "metadata": {
        "id": "1b9128a4-d136-4394-9860-6a6396347f8e"
      },
      "source": [
        "#### **Explore the train, test & subject information**"
      ]
    },
    {
      "cell_type": "code",
      "execution_count": 12,
      "id": "75e63131-beea-48a1-a4b0-36f36f5054c4",
      "metadata": {
        "colab": {
          "base_uri": "https://localhost:8080/",
          "height": 206
        },
        "id": "75e63131-beea-48a1-a4b0-36f36f5054c4",
        "outputId": "7499f792-6861-41e5-fbfc-1e0f4063f574"
      },
      "outputs": [
        {
          "data": {
            "text/html": [
              "<div>\n",
              "<style scoped>\n",
              "    .dataframe tbody tr th:only-of-type {\n",
              "        vertical-align: middle;\n",
              "    }\n",
              "\n",
              "    .dataframe tbody tr th {\n",
              "        vertical-align: top;\n",
              "    }\n",
              "\n",
              "    .dataframe thead th {\n",
              "        text-align: right;\n",
              "    }\n",
              "</style>\n",
              "<table border=\"1\" class=\"dataframe\">\n",
              "  <thead>\n",
              "    <tr style=\"text-align: right;\">\n",
              "      <th></th>\n",
              "      <th>filename</th>\n",
              "      <th>SampleType</th>\n",
              "      <th>SubjectID</th>\n",
              "      <th>SampleID</th>\n",
              "    </tr>\n",
              "  </thead>\n",
              "  <tbody>\n",
              "    <tr>\n",
              "      <th>0</th>\n",
              "      <td>ID_LETPJN.mgb</td>\n",
              "      <td>Stool</td>\n",
              "      <td>Subject_BCUNIB</td>\n",
              "      <td>Sample_AFTIWE</td>\n",
              "    </tr>\n",
              "    <tr>\n",
              "      <th>1</th>\n",
              "      <td>ID_NTDGIW.mgb</td>\n",
              "      <td>Stool</td>\n",
              "      <td>Subject_UDAXIH</td>\n",
              "      <td>Sample_JQJVNK</td>\n",
              "    </tr>\n",
              "    <tr>\n",
              "      <th>2</th>\n",
              "      <td>ID_ZISBMF.mgb</td>\n",
              "      <td>Nasal</td>\n",
              "      <td>Subject_VRKADI</td>\n",
              "      <td>Sample_YJWGWW</td>\n",
              "    </tr>\n",
              "    <tr>\n",
              "      <th>3</th>\n",
              "      <td>ID_MDCVXU.mgb</td>\n",
              "      <td>Nasal</td>\n",
              "      <td>Subject_HIFZWD</td>\n",
              "      <td>Sample_VKEHZP</td>\n",
              "    </tr>\n",
              "    <tr>\n",
              "      <th>4</th>\n",
              "      <td>ID_SWAMNY.mgb</td>\n",
              "      <td>Stool</td>\n",
              "      <td>Subject_VGLNCV</td>\n",
              "      <td>Sample_NTDTEQ</td>\n",
              "    </tr>\n",
              "  </tbody>\n",
              "</table>\n",
              "</div>"
            ],
            "text/plain": [
              "        filename SampleType       SubjectID       SampleID\n",
              "0  ID_LETPJN.mgb      Stool  Subject_BCUNIB  Sample_AFTIWE\n",
              "1  ID_NTDGIW.mgb      Stool  Subject_UDAXIH  Sample_JQJVNK\n",
              "2  ID_ZISBMF.mgb      Nasal  Subject_VRKADI  Sample_YJWGWW\n",
              "3  ID_MDCVXU.mgb      Nasal  Subject_HIFZWD  Sample_VKEHZP\n",
              "4  ID_SWAMNY.mgb      Stool  Subject_VGLNCV  Sample_NTDTEQ"
            ]
          },
          "execution_count": 12,
          "metadata": {},
          "output_type": "execute_result"
        }
      ],
      "source": [
        "# Check top 5 rows of the training data\n",
        "train_df.head()"
      ]
    },
    {
      "cell_type": "code",
      "execution_count": 13,
      "id": "JHdMbt7ZW-IZ",
      "metadata": {
        "colab": {
          "base_uri": "https://localhost:8080/",
          "height": 430
        },
        "id": "JHdMbt7ZW-IZ",
        "outputId": "4f2427e1-5331-43e5-e8bb-b85bc52f3ad1"
      },
      "outputs": [
        {
          "data": {
            "image/png": "[encoded data removed]",
            "text/plain": [
              "<Figure size 432x288 with 1 Axes>"
            ]
          },
          "metadata": {
            "needs_background": "light"
          },
          "output_type": "display_data"
        }
      ],
      "source": [
        "# Visualization of sample type distribution\n",
        "train_df.groupby('SampleType').size().plot(kind='barh', color=sns.color_palette('Dark2'))\n",
        "for spine in ['top', 'right']:\n",
        "    plt.gca().spines[spine].set_visible(False)\n",
        "plt.xlabel('Count')\n",
        "plt.ylabel('Sample Type')\n",
        "plt.title('Sample Type Distribution')\n",
        "plt.tight_layout()\n",
        "plt.show()\n"
      ]
    },
    {
      "cell_type": "code",
      "execution_count": 14,
      "id": "67f0f1b2-cd1e-4795-8a06-5eac59cbe769",
      "metadata": {
        "colab": {
          "base_uri": "https://localhost:8080/",
          "height": 275
        },
        "id": "67f0f1b2-cd1e-4795-8a06-5eac59cbe769",
        "outputId": "01a9eec2-68b5-4b02-a2ba-4c1f85a75f60"
      },
      "outputs": [
        {
          "name": "stdout",
          "output_type": "stream",
          "text": [
            "Number of unique subjects in train_df: 66\n",
            "Number of unique SampleType in train_df: 4\n",
            "Number of unique Files in train_df: 2901\n",
            "Unique values in SampleType: ['Stool' 'Nasal' 'Mouth' 'Skin']\n"
          ]
        },
        {
          "data": {
            "text/html": [
              "<div>\n",
              "<style scoped>\n",
              "    .dataframe tbody tr th:only-of-type {\n",
              "        vertical-align: middle;\n",
              "    }\n",
              "\n",
              "    .dataframe tbody tr th {\n",
              "        vertical-align: top;\n",
              "    }\n",
              "\n",
              "    .dataframe thead th {\n",
              "        text-align: right;\n",
              "    }\n",
              "</style>\n",
              "<table border=\"1\" class=\"dataframe\">\n",
              "  <thead>\n",
              "    <tr style=\"text-align: right;\">\n",
              "      <th></th>\n",
              "      <th>filename</th>\n",
              "      <th>SampleType</th>\n",
              "      <th>SubjectID</th>\n",
              "      <th>SampleID</th>\n",
              "    </tr>\n",
              "  </thead>\n",
              "  <tbody>\n",
              "    <tr>\n",
              "      <th>0</th>\n",
              "      <td>ID_LETPJN.mgb</td>\n",
              "      <td>Stool</td>\n",
              "      <td>Subject_BCUNIB</td>\n",
              "      <td>Sample_AFTIWE</td>\n",
              "    </tr>\n",
              "    <tr>\n",
              "      <th>1</th>\n",
              "      <td>ID_NTDGIW.mgb</td>\n",
              "      <td>Stool</td>\n",
              "      <td>Subject_UDAXIH</td>\n",
              "      <td>Sample_JQJVNK</td>\n",
              "    </tr>\n",
              "    <tr>\n",
              "      <th>2</th>\n",
              "      <td>ID_ZISBMF.mgb</td>\n",
              "      <td>Nasal</td>\n",
              "      <td>Subject_VRKADI</td>\n",
              "      <td>Sample_YJWGWW</td>\n",
              "    </tr>\n",
              "    <tr>\n",
              "      <th>3</th>\n",
              "      <td>ID_MDCVXU.mgb</td>\n",
              "      <td>Nasal</td>\n",
              "      <td>Subject_HIFZWD</td>\n",
              "      <td>Sample_VKEHZP</td>\n",
              "    </tr>\n",
              "    <tr>\n",
              "      <th>4</th>\n",
              "      <td>ID_SWAMNY.mgb</td>\n",
              "      <td>Stool</td>\n",
              "      <td>Subject_VGLNCV</td>\n",
              "      <td>Sample_NTDTEQ</td>\n",
              "    </tr>\n",
              "  </tbody>\n",
              "</table>\n",
              "</div>"
            ],
            "text/plain": [
              "        filename SampleType       SubjectID       SampleID\n",
              "0  ID_LETPJN.mgb      Stool  Subject_BCUNIB  Sample_AFTIWE\n",
              "1  ID_NTDGIW.mgb      Stool  Subject_UDAXIH  Sample_JQJVNK\n",
              "2  ID_ZISBMF.mgb      Nasal  Subject_VRKADI  Sample_YJWGWW\n",
              "3  ID_MDCVXU.mgb      Nasal  Subject_HIFZWD  Sample_VKEHZP\n",
              "4  ID_SWAMNY.mgb      Stool  Subject_VGLNCV  Sample_NTDTEQ"
            ]
          },
          "execution_count": 14,
          "metadata": {},
          "output_type": "execute_result"
        }
      ],
      "source": [
        "print(f\"Number of unique subjects in train_df: {train_df['SubjectID'].nunique()}\")\n",
        "print(f\"Number of unique SampleType in train_df: {train_df['SampleType'].nunique()}\")\n",
        "print(f\"Number of unique Files in train_df: {train_df['filename'].nunique()}\")\n",
        "print(f\"Unique values in SampleType: {train_df['SampleType'].unique()}\")\n",
        "\n",
        "train_df.head()"
      ]
    },
    {
      "cell_type": "code",
      "execution_count": 15,
      "id": "037d740c-76cb-4ffe-a95c-1ab6f27d782e",
      "metadata": {
        "colab": {
          "base_uri": "https://localhost:8080/",
          "height": 581
        },
        "id": "037d740c-76cb-4ffe-a95c-1ab6f27d782e",
        "outputId": "9acef821-d1ef-41ba-b727-822213c29c82"
      },
      "outputs": [
        {
          "name": "stdout",
          "output_type": "stream",
          "text": [
            "Average number of files per SubjectID in train_df: 43.95\n"
          ]
        },
        {
          "data": {
            "image/png": "[encoded data removed]",
            "text/plain": [
              "<Figure size 720x432 with 1 Axes>"
            ]
          },
          "metadata": {
            "needs_background": "light"
          },
          "output_type": "display_data"
        }
      ],
      "source": [
        "# Visualization of the average number of files per SubjectID\n",
        "\n",
        "files_per_subject = train_df.groupby('SubjectID')['filename'].count().reset_index()\n",
        "files_per_subject = files_per_subject.rename(columns={'filename': 'FileCount'})\n",
        "average_files_per_subject = files_per_subject['FileCount'].mean()\n",
        "print(f\"Average number of files per SubjectID in train_df: {average_files_per_subject:.2f}\")\n",
        "# Plot\n",
        "plt.figure(figsize=(10, 6))\n",
        "plt.hist(files_per_subject['FileCount'], bins=20, edgecolor='black')\n",
        "plt.title('Distribution of Files per SubjectID in Train Data')\n",
        "plt.xlabel('Number of Files')\n",
        "plt.ylabel('Number of SubjectIDs')\n",
        "plt.grid(axis='y', alpha=0.75)\n",
        "plt.show()"
      ]
    },
    {
      "cell_type": "markdown",
      "id": "39a7d777",
      "metadata": {},
      "source": [
        "> . The plot above shows the number of files each subject had. In that case, when a subject is included, **four samples** are taken. As seen, most subjects overall had **20-25 samples** taken over the research period; however, some had more than 25 samples taken, like the few subjects who had more than **+ 400 samples** taken.These extreme cases may represent participants who were followed up more intensively, perhaps due to **medical interest** or their **availability**.This also highlights the dedication of these participants and the importance of the research in capturing detailed, longitudinal microbiome data."
      ]
    },
    {
      "cell_type": "code",
      "execution_count": 16,
      "id": "2816263b-4d90-474b-a74f-c12c2399a4fb",
      "metadata": {
        "colab": {
          "base_uri": "https://localhost:8080/",
          "height": 223
        },
        "id": "2816263b-4d90-474b-a74f-c12c2399a4fb",
        "outputId": "9fd341be-bf7d-40f6-a6e6-3cd0b6de9c6d"
      },
      "outputs": [
        {
          "name": "stdout",
          "output_type": "stream",
          "text": [
            "Number of unique Files in test_df: 1068\n"
          ]
        },
        {
          "data": {
            "text/html": [
              "<div>\n",
              "<style scoped>\n",
              "    .dataframe tbody tr th:only-of-type {\n",
              "        vertical-align: middle;\n",
              "    }\n",
              "\n",
              "    .dataframe tbody tr th {\n",
              "        vertical-align: top;\n",
              "    }\n",
              "\n",
              "    .dataframe thead th {\n",
              "        text-align: right;\n",
              "    }\n",
              "</style>\n",
              "<table border=\"1\" class=\"dataframe\">\n",
              "  <thead>\n",
              "    <tr style=\"text-align: right;\">\n",
              "      <th></th>\n",
              "      <th>filename</th>\n",
              "    </tr>\n",
              "  </thead>\n",
              "  <tbody>\n",
              "    <tr>\n",
              "      <th>0</th>\n",
              "      <td>ID_YBNOYC.mgb</td>\n",
              "    </tr>\n",
              "    <tr>\n",
              "      <th>1</th>\n",
              "      <td>ID_HPVLUO.mgb</td>\n",
              "    </tr>\n",
              "    <tr>\n",
              "      <th>2</th>\n",
              "      <td>ID_DQGGYD.mgb</td>\n",
              "    </tr>\n",
              "    <tr>\n",
              "      <th>3</th>\n",
              "      <td>ID_XZBUJB.mgb</td>\n",
              "    </tr>\n",
              "    <tr>\n",
              "      <th>4</th>\n",
              "      <td>ID_KRPYRQ.mgb</td>\n",
              "    </tr>\n",
              "  </tbody>\n",
              "</table>\n",
              "</div>"
            ],
            "text/plain": [
              "        filename\n",
              "0  ID_YBNOYC.mgb\n",
              "1  ID_HPVLUO.mgb\n",
              "2  ID_DQGGYD.mgb\n",
              "3  ID_XZBUJB.mgb\n",
              "4  ID_KRPYRQ.mgb"
            ]
          },
          "execution_count": 16,
          "metadata": {},
          "output_type": "execute_result"
        }
      ],
      "source": [
        "# Check for unique files in test_df and top 5 rows\n",
        "print(f\"Number of unique Files in test_df: {test_df['filename'].nunique()}\")\n",
        "test_df.head()"
      ]
    },
    {
      "cell_type": "code",
      "execution_count": 17,
      "id": "f322f09d-9a24-4afa-9fbd-75a696ca5bef",
      "metadata": {
        "colab": {
          "base_uri": "https://localhost:8080/",
          "height": 243
        },
        "id": "f322f09d-9a24-4afa-9fbd-75a696ca5bef",
        "outputId": "4f6a84c4-2b4c-4a97-c98f-a8d4790e8fbc"
      },
      "outputs": [
        {
          "data": {
            "text/html": [
              "<div>\n",
              "<style scoped>\n",
              "    .dataframe tbody tr th:only-of-type {\n",
              "        vertical-align: middle;\n",
              "    }\n",
              "\n",
              "    .dataframe tbody tr th {\n",
              "        vertical-align: top;\n",
              "    }\n",
              "\n",
              "    .dataframe thead th {\n",
              "        text-align: right;\n",
              "    }\n",
              "</style>\n",
              "<table border=\"1\" class=\"dataframe\">\n",
              "  <thead>\n",
              "    <tr style=\"text-align: right;\">\n",
              "      <th></th>\n",
              "      <th>SubjectID</th>\n",
              "      <th>FPG_Mean</th>\n",
              "      <th>FPG_class</th>\n",
              "      <th>IRIS</th>\n",
              "      <th>SSPG</th>\n",
              "      <th>FPG</th>\n",
              "      <th>SSPG.Date</th>\n",
              "      <th>Class</th>\n",
              "      <th>Gender</th>\n",
              "      <th>Ethnicity</th>\n",
              "      <th>Adj.age</th>\n",
              "      <th>BMI</th>\n",
              "      <th>OGTT</th>\n",
              "      <th>OGTT_Class</th>\n",
              "      <th>Longitudinal.HbA1C.Group</th>\n",
              "      <th>A1C_Class</th>\n",
              "      <th>Family</th>\n",
              "    </tr>\n",
              "  </thead>\n",
              "  <tbody>\n",
              "    <tr>\n",
              "      <th>0</th>\n",
              "      <td>Subject_UDAXIH</td>\n",
              "      <td>1.274432</td>\n",
              "      <td>Diabetes</td>\n",
              "      <td>IS</td>\n",
              "      <td>91.5</td>\n",
              "      <td>131.75</td>\n",
              "      <td>8/7/14</td>\n",
              "      <td>Diabetic</td>\n",
              "      <td>M</td>\n",
              "      <td>C</td>\n",
              "      <td>59.48</td>\n",
              "      <td>21.47</td>\n",
              "      <td>2.245</td>\n",
              "      <td>Diabetes</td>\n",
              "      <td>6. Variable Diabetic-PreDM (n = 8)</td>\n",
              "      <td>6.VDP</td>\n",
              "      <td>NaN</td>\n",
              "    </tr>\n",
              "    <tr>\n",
              "      <th>1</th>\n",
              "      <td>Subject_NHOSIZ</td>\n",
              "      <td>0.915833</td>\n",
              "      <td>Normal</td>\n",
              "      <td>Unknown</td>\n",
              "      <td>NaN</td>\n",
              "      <td>NaN</td>\n",
              "      <td>NaN</td>\n",
              "      <td>Prediabetic</td>\n",
              "      <td>M</td>\n",
              "      <td>C</td>\n",
              "      <td>61.17</td>\n",
              "      <td>27.06</td>\n",
              "      <td>1.005</td>\n",
              "      <td>Normal</td>\n",
              "      <td>3. PreDM-to-Normal (n = 10)</td>\n",
              "      <td>3.PN</td>\n",
              "      <td>NaN</td>\n",
              "    </tr>\n",
              "    <tr>\n",
              "      <th>2</th>\n",
              "      <td>Subject_AYZFWN</td>\n",
              "      <td>0.952000</td>\n",
              "      <td>Normal</td>\n",
              "      <td>Unknown</td>\n",
              "      <td>NaN</td>\n",
              "      <td>NaN</td>\n",
              "      <td>NaN</td>\n",
              "      <td>Prediabetic</td>\n",
              "      <td>F</td>\n",
              "      <td>A</td>\n",
              "      <td>56.22</td>\n",
              "      <td>30.61</td>\n",
              "      <td>NaN</td>\n",
              "      <td>NaN</td>\n",
              "      <td>1. Normal (n = 51)</td>\n",
              "      <td>1.Normal</td>\n",
              "      <td>NaN</td>\n",
              "    </tr>\n",
              "    <tr>\n",
              "      <th>3</th>\n",
              "      <td>Subject_KIEGYK</td>\n",
              "      <td>1.160000</td>\n",
              "      <td>Prediabetes</td>\n",
              "      <td>Unknown</td>\n",
              "      <td>NaN</td>\n",
              "      <td>NaN</td>\n",
              "      <td>NaN</td>\n",
              "      <td>Prediabetic</td>\n",
              "      <td>M</td>\n",
              "      <td>C</td>\n",
              "      <td>49.18</td>\n",
              "      <td>23.22</td>\n",
              "      <td>NaN</td>\n",
              "      <td>NaN</td>\n",
              "      <td>1. Normal (n = 51)</td>\n",
              "      <td>1.Normal</td>\n",
              "      <td>NaN</td>\n",
              "    </tr>\n",
              "    <tr>\n",
              "      <th>4</th>\n",
              "      <td>Subject_CBVHYJ</td>\n",
              "      <td>0.880000</td>\n",
              "      <td>Normal</td>\n",
              "      <td>Unknown</td>\n",
              "      <td>NaN</td>\n",
              "      <td>NaN</td>\n",
              "      <td>NaN</td>\n",
              "      <td>Control</td>\n",
              "      <td>F</td>\n",
              "      <td>C</td>\n",
              "      <td>46.04</td>\n",
              "      <td>25.26</td>\n",
              "      <td>0.930</td>\n",
              "      <td>Normal</td>\n",
              "      <td>1. Normal (n = 51)</td>\n",
              "      <td>1.Normal</td>\n",
              "      <td>NaN</td>\n",
              "    </tr>\n",
              "  </tbody>\n",
              "</table>\n",
              "</div>"
            ],
            "text/plain": [
              "        SubjectID  FPG_Mean    FPG_class     IRIS  SSPG     FPG SSPG.Date  \\\n",
              "0  Subject_UDAXIH  1.274432     Diabetes       IS  91.5  131.75    8/7/14   \n",
              "1  Subject_NHOSIZ  0.915833       Normal  Unknown   NaN     NaN       NaN   \n",
              "2  Subject_AYZFWN  0.952000       Normal  Unknown   NaN     NaN       NaN   \n",
              "3  Subject_KIEGYK  1.160000  Prediabetes  Unknown   NaN     NaN       NaN   \n",
              "4  Subject_CBVHYJ  0.880000       Normal  Unknown   NaN     NaN       NaN   \n",
              "\n",
              "         Class Gender Ethnicity  Adj.age    BMI   OGTT OGTT_Class  \\\n",
              "0     Diabetic      M         C    59.48  21.47  2.245   Diabetes   \n",
              "1  Prediabetic      M         C    61.17  27.06  1.005     Normal   \n",
              "2  Prediabetic      F         A    56.22  30.61    NaN        NaN   \n",
              "3  Prediabetic      M         C    49.18  23.22    NaN        NaN   \n",
              "4      Control      F         C    46.04  25.26  0.930     Normal   \n",
              "\n",
              "             Longitudinal.HbA1C.Group A1C_Class Family  \n",
              "0  6. Variable Diabetic-PreDM (n = 8)     6.VDP    NaN  \n",
              "1         3. PreDM-to-Normal (n = 10)      3.PN    NaN  \n",
              "2                  1. Normal (n = 51)  1.Normal    NaN  \n",
              "3                  1. Normal (n = 51)  1.Normal    NaN  \n",
              "4                  1. Normal (n = 51)  1.Normal    NaN  "
            ]
          },
          "execution_count": 17,
          "metadata": {},
          "output_type": "execute_result"
        }
      ],
      "source": [
        "# Check top 5 rows of train_subjects_df\n",
        "train_subjects_df.head()"
      ]
    },
    {
      "cell_type": "code",
      "execution_count": 18,
      "id": "0453d2db-29c9-4955-978a-a82efc3611c7",
      "metadata": {
        "colab": {
          "base_uri": "https://localhost:8080/",
          "height": 300
        },
        "id": "0453d2db-29c9-4955-978a-a82efc3611c7",
        "outputId": "a9fd579c-7030-43ad-8982-e250e86ae534"
      },
      "outputs": [
        {
          "data": {
            "text/html": [
              "<div>\n",
              "<style scoped>\n",
              "    .dataframe tbody tr th:only-of-type {\n",
              "        vertical-align: middle;\n",
              "    }\n",
              "\n",
              "    .dataframe tbody tr th {\n",
              "        vertical-align: top;\n",
              "    }\n",
              "\n",
              "    .dataframe thead th {\n",
              "        text-align: right;\n",
              "    }\n",
              "</style>\n",
              "<table border=\"1\" class=\"dataframe\">\n",
              "  <thead>\n",
              "    <tr style=\"text-align: right;\">\n",
              "      <th></th>\n",
              "      <th>FPG_Mean</th>\n",
              "      <th>SSPG</th>\n",
              "      <th>FPG</th>\n",
              "      <th>Adj.age</th>\n",
              "      <th>BMI</th>\n",
              "      <th>OGTT</th>\n",
              "    </tr>\n",
              "  </thead>\n",
              "  <tbody>\n",
              "    <tr>\n",
              "      <th>count</th>\n",
              "      <td>66.000000</td>\n",
              "      <td>44.000000</td>\n",
              "      <td>44.000000</td>\n",
              "      <td>66.000000</td>\n",
              "      <td>66.000000</td>\n",
              "      <td>56.000000</td>\n",
              "    </tr>\n",
              "    <tr>\n",
              "      <th>mean</th>\n",
              "      <td>0.940581</td>\n",
              "      <td>149.815000</td>\n",
              "      <td>99.937500</td>\n",
              "      <td>54.976212</td>\n",
              "      <td>27.895000</td>\n",
              "      <td>1.371667</td>\n",
              "    </tr>\n",
              "    <tr>\n",
              "      <th>std</th>\n",
              "      <td>0.117552</td>\n",
              "      <td>68.402027</td>\n",
              "      <td>11.397818</td>\n",
              "      <td>10.315599</td>\n",
              "      <td>4.334436</td>\n",
              "      <td>0.455184</td>\n",
              "    </tr>\n",
              "    <tr>\n",
              "      <th>min</th>\n",
              "      <td>0.756000</td>\n",
              "      <td>40.000000</td>\n",
              "      <td>78.000000</td>\n",
              "      <td>29.180000</td>\n",
              "      <td>19.100000</td>\n",
              "      <td>0.640000</td>\n",
              "    </tr>\n",
              "    <tr>\n",
              "      <th>25%</th>\n",
              "      <td>0.870000</td>\n",
              "      <td>90.375000</td>\n",
              "      <td>94.750000</td>\n",
              "      <td>49.772500</td>\n",
              "      <td>25.040000</td>\n",
              "      <td>1.089167</td>\n",
              "    </tr>\n",
              "    <tr>\n",
              "      <th>50%</th>\n",
              "      <td>0.902557</td>\n",
              "      <td>156.935000</td>\n",
              "      <td>97.500000</td>\n",
              "      <td>55.300000</td>\n",
              "      <td>27.195000</td>\n",
              "      <td>1.250000</td>\n",
              "    </tr>\n",
              "    <tr>\n",
              "      <th>75%</th>\n",
              "      <td>1.017500</td>\n",
              "      <td>220.000000</td>\n",
              "      <td>101.937500</td>\n",
              "      <td>61.747500</td>\n",
              "      <td>30.092500</td>\n",
              "      <td>1.533125</td>\n",
              "    </tr>\n",
              "    <tr>\n",
              "      <th>max</th>\n",
              "      <td>1.274432</td>\n",
              "      <td>274.000000</td>\n",
              "      <td>138.000000</td>\n",
              "      <td>75.230000</td>\n",
              "      <td>40.830000</td>\n",
              "      <td>3.087500</td>\n",
              "    </tr>\n",
              "  </tbody>\n",
              "</table>\n",
              "</div>"
            ],
            "text/plain": [
              "        FPG_Mean        SSPG         FPG    Adj.age        BMI       OGTT\n",
              "count  66.000000   44.000000   44.000000  66.000000  66.000000  56.000000\n",
              "mean    0.940581  149.815000   99.937500  54.976212  27.895000   1.371667\n",
              "std     0.117552   68.402027   11.397818  10.315599   4.334436   0.455184\n",
              "min     0.756000   40.000000   78.000000  29.180000  19.100000   0.640000\n",
              "25%     0.870000   90.375000   94.750000  49.772500  25.040000   1.089167\n",
              "50%     0.902557  156.935000   97.500000  55.300000  27.195000   1.250000\n",
              "75%     1.017500  220.000000  101.937500  61.747500  30.092500   1.533125\n",
              "max     1.274432  274.000000  138.000000  75.230000  40.830000   3.087500"
            ]
          },
          "execution_count": 18,
          "metadata": {},
          "output_type": "execute_result"
        }
      ],
      "source": [
        "# Check the description of train_subjects_df\n",
        "train_subjects_df.describe()"
      ]
    },
    {
      "cell_type": "markdown",
      "id": "f76d9f93-9348-41ef-960c-f56b45c61a4f",
      "metadata": {
        "id": "f76d9f93-9348-41ef-960c-f56b45c61a4f"
      },
      "source": [
        "###  **Explore the fastq files**"
      ]
    },
    {
      "cell_type": "code",
      "execution_count": 19,
      "id": "3ead8dc5-5d52-41e1-8517-b93601b56380",
      "metadata": {
        "id": "3ead8dc5-5d52-41e1-8517-b93601b56380"
      },
      "outputs": [
        {
          "name": "stderr",
          "output_type": "stream",
          "text": [
            "Processing Train Files: 100%|██████████| 2900/2900 [4:14:00<00:00,  5.26s/it]    \n",
            "Processing Test Files: 100%|██████████| 1068/1068 [1:06:38<00:00,  3.74s/it]\n"
          ]
        },
        {
          "data": {
            "text/html": [
              "<div>\n",
              "<style scoped>\n",
              "    .dataframe tbody tr th:only-of-type {\n",
              "        vertical-align: middle;\n",
              "    }\n",
              "\n",
              "    .dataframe tbody tr th {\n",
              "        vertical-align: top;\n",
              "    }\n",
              "\n",
              "    .dataframe thead th {\n",
              "        text-align: right;\n",
              "    }\n",
              "</style>\n",
              "<table border=\"1\" class=\"dataframe\">\n",
              "  <thead>\n",
              "    <tr style=\"text-align: right;\">\n",
              "      <th></th>\n",
              "      <th>filename</th>\n",
              "      <th>avg_read_length</th>\n",
              "      <th>gc_content</th>\n",
              "      <th>n_content</th>\n",
              "      <th>read_count</th>\n",
              "    </tr>\n",
              "  </thead>\n",
              "  <tbody>\n",
              "    <tr>\n",
              "      <th>0</th>\n",
              "      <td>ID_AAFNOT.mgb</td>\n",
              "      <td>124.5</td>\n",
              "      <td>55.262863</td>\n",
              "      <td>0.0</td>\n",
              "      <td>42840</td>\n",
              "    </tr>\n",
              "    <tr>\n",
              "      <th>1</th>\n",
              "      <td>ID_AAXPTO.mgb</td>\n",
              "      <td>400.0</td>\n",
              "      <td>53.985332</td>\n",
              "      <td>0.0</td>\n",
              "      <td>42814</td>\n",
              "    </tr>\n",
              "    <tr>\n",
              "      <th>2</th>\n",
              "      <td>ID_AAYKAN.mgb</td>\n",
              "      <td>400.0</td>\n",
              "      <td>54.331387</td>\n",
              "      <td>0.0</td>\n",
              "      <td>21794</td>\n",
              "    </tr>\n",
              "    <tr>\n",
              "      <th>3</th>\n",
              "      <td>ID_ABEZNS.mgb</td>\n",
              "      <td>124.5</td>\n",
              "      <td>52.918782</td>\n",
              "      <td>0.0</td>\n",
              "      <td>448014</td>\n",
              "    </tr>\n",
              "    <tr>\n",
              "      <th>4</th>\n",
              "      <td>ID_ABFFLP.mgb</td>\n",
              "      <td>400.0</td>\n",
              "      <td>55.812463</td>\n",
              "      <td>0.0</td>\n",
              "      <td>15173</td>\n",
              "    </tr>\n",
              "  </tbody>\n",
              "</table>\n",
              "</div>"
            ],
            "text/plain": [
              "        filename  avg_read_length  gc_content  n_content  read_count\n",
              "0  ID_AAFNOT.mgb            124.5   55.262863        0.0       42840\n",
              "1  ID_AAXPTO.mgb            400.0   53.985332        0.0       42814\n",
              "2  ID_AAYKAN.mgb            400.0   54.331387        0.0       21794\n",
              "3  ID_ABEZNS.mgb            124.5   52.918782        0.0      448014\n",
              "4  ID_ABFFLP.mgb            400.0   55.812463        0.0       15173"
            ]
          },
          "execution_count": 19,
          "metadata": {},
          "output_type": "execute_result"
        }
      ],
      "source": [
        "# function to extract features from FASTQ files\n",
        "def extract_fastq_features(file_path):\n",
        "    features = {\n",
        "        'filename': os.path.basename(file_path).replace('.fastq.gz', '.mgb'),\n",
        "        'avg_read_length': 0,\n",
        "        'gc_content': 0,\n",
        "        'n_content': 0,\n",
        "        'read_count': 0\n",
        "    }\n",
        "    total_length, total_gc, total_n, read_count = 0, 0, 0, 0\n",
        "    try:\n",
        "        with gzip.open(file_path, 'rt') as handle:\n",
        "            for record in SeqIO.parse(handle, 'fastq'):\n",
        "                seq = str(record.seq)\n",
        "                total_length += len(seq)\n",
        "                total_gc += seq.count('G') + seq.count('C')\n",
        "                total_n += seq.count('N')\n",
        "                read_count += 1\n",
        "        if read_count > 0:\n",
        "            features['avg_read_length'] = total_length / read_count\n",
        "            features['gc_content'] = (total_gc / total_length) * 100 if total_length > 0 else 0\n",
        "            features['n_content'] = (total_n / total_length) * 100 if total_length > 0 else 0\n",
        "            features['read_count'] = read_count\n",
        "    except Exception as e:\n",
        "        print(f\"Error processing {file_path}: {e}\")\n",
        "    return features\n",
        "\n",
        "train_files_path =(r'.\\train\\TrainFiles')\n",
        "test_files_path = (r'.\\test\\TestFiles')\n",
        "train_fastq_files = [os.path.join(train_files_path, f) for f in os.listdir(train_files_path) if f.endswith('.fastq.gz')]\n",
        "test_fastq_files = [os.path.join(test_files_path, f) for f in os.listdir(test_files_path) if f.endswith('.fastq.gz')]\n",
        "\n",
        "train_features = [extract_fastq_features(f) for f in tqdm(train_fastq_files, desc='Processing Train Files')]\n",
        "test_features = [extract_fastq_features(f) for f in tqdm(test_fastq_files, desc='Processing Test Files')]\n",
        "\n",
        "train_features_df = pd.DataFrame(train_features)\n",
        "test_features_df = pd.DataFrame(test_features)\n",
        "\n",
        "train_features_df.head()"
      ]
    },
    {
      "cell_type": "code",
      "execution_count": 20,
      "id": "08cd8842",
      "metadata": {},
      "outputs": [
        {
          "name": "stdout",
          "output_type": "stream",
          "text": [
            "Index(['filename', 'avg_read_length', 'gc_content', 'n_content', 'read_count'], dtype='object')\n"
          ]
        }
      ],
      "source": [
        "print(test_features_df.columns)"
      ]
    },
    {
      "cell_type": "code",
      "execution_count": null,
      "id": "cef10179",
      "metadata": {},
      "outputs": [
        {
          "name": "stdout",
          "output_type": "stream",
          "text": [
            "Training data shape after adding sequence features: (2901, 91)\n",
            "Test data shape after adding sequence features: (1068, 5)\n"
          ]
        },
        {
          "data": {
            "text/html": [
              "<div>\n",
              "<style scoped>\n",
              "    .dataframe tbody tr th:only-of-type {\n",
              "        vertical-align: middle;\n",
              "    }\n",
              "\n",
              "    .dataframe tbody tr th {\n",
              "        vertical-align: top;\n",
              "    }\n",
              "\n",
              "    .dataframe thead th {\n",
              "        text-align: right;\n",
              "    }\n",
              "</style>\n",
              "<table border=\"1\" class=\"dataframe\">\n",
              "  <thead>\n",
              "    <tr style=\"text-align: right;\">\n",
              "      <th></th>\n",
              "      <th>filename</th>\n",
              "      <th>SampleType</th>\n",
              "      <th>SubjectID</th>\n",
              "      <th>SampleID</th>\n",
              "      <th>FPG_Mean</th>\n",
              "      <th>FPG_class</th>\n",
              "      <th>IRIS</th>\n",
              "      <th>SSPG</th>\n",
              "      <th>FPG</th>\n",
              "      <th>SSPG.Date</th>\n",
              "      <th>...</th>\n",
              "      <th>CD40L</th>\n",
              "      <th>ENA78</th>\n",
              "      <th>CHEX1</th>\n",
              "      <th>CHEX2</th>\n",
              "      <th>CHEX3</th>\n",
              "      <th>CHEX4</th>\n",
              "      <th>avg_read_length</th>\n",
              "      <th>gc_content</th>\n",
              "      <th>n_content</th>\n",
              "      <th>read_count</th>\n",
              "    </tr>\n",
              "  </thead>\n",
              "  <tbody>\n",
              "    <tr>\n",
              "      <th>0</th>\n",
              "      <td>ID_LETPJN.mgb</td>\n",
              "      <td>Stool</td>\n",
              "      <td>Subject_BCUNIB</td>\n",
              "      <td>Sample_AFTIWE</td>\n",
              "      <td>1.063333</td>\n",
              "      <td>Prediabetes</td>\n",
              "      <td>Unknown</td>\n",
              "      <td>NaN</td>\n",
              "      <td>NaN</td>\n",
              "      <td>NaN</td>\n",
              "      <td>...</td>\n",
              "      <td>282.210259</td>\n",
              "      <td>260.803223</td>\n",
              "      <td>10348.221434</td>\n",
              "      <td>615.135794</td>\n",
              "      <td>1145.764405</td>\n",
              "      <td>15.090773</td>\n",
              "      <td>400.0</td>\n",
              "      <td>52.814633</td>\n",
              "      <td>0.0</td>\n",
              "      <td>21599.0</td>\n",
              "    </tr>\n",
              "    <tr>\n",
              "      <th>1</th>\n",
              "      <td>ID_NTDGIW.mgb</td>\n",
              "      <td>Stool</td>\n",
              "      <td>Subject_UDAXIH</td>\n",
              "      <td>Sample_JQJVNK</td>\n",
              "      <td>1.274432</td>\n",
              "      <td>Diabetes</td>\n",
              "      <td>IS</td>\n",
              "      <td>91.5</td>\n",
              "      <td>131.75</td>\n",
              "      <td>8/7/14</td>\n",
              "      <td>...</td>\n",
              "      <td>NaN</td>\n",
              "      <td>NaN</td>\n",
              "      <td>NaN</td>\n",
              "      <td>NaN</td>\n",
              "      <td>NaN</td>\n",
              "      <td>NaN</td>\n",
              "      <td>400.0</td>\n",
              "      <td>53.574193</td>\n",
              "      <td>0.0</td>\n",
              "      <td>20295.0</td>\n",
              "    </tr>\n",
              "    <tr>\n",
              "      <th>2</th>\n",
              "      <td>ID_ZISBMF.mgb</td>\n",
              "      <td>Nasal</td>\n",
              "      <td>Subject_VRKADI</td>\n",
              "      <td>Sample_YJWGWW</td>\n",
              "      <td>0.899545</td>\n",
              "      <td>Normal</td>\n",
              "      <td>IR</td>\n",
              "      <td>220.0</td>\n",
              "      <td>95.00</td>\n",
              "      <td>12/18/12</td>\n",
              "      <td>...</td>\n",
              "      <td>NaN</td>\n",
              "      <td>NaN</td>\n",
              "      <td>NaN</td>\n",
              "      <td>NaN</td>\n",
              "      <td>NaN</td>\n",
              "      <td>NaN</td>\n",
              "      <td>400.0</td>\n",
              "      <td>55.170314</td>\n",
              "      <td>0.0</td>\n",
              "      <td>16449.0</td>\n",
              "    </tr>\n",
              "    <tr>\n",
              "      <th>3</th>\n",
              "      <td>ID_MDCVXU.mgb</td>\n",
              "      <td>Nasal</td>\n",
              "      <td>Subject_HIFZWD</td>\n",
              "      <td>Sample_VKEHZP</td>\n",
              "      <td>0.800000</td>\n",
              "      <td>Normal</td>\n",
              "      <td>IR</td>\n",
              "      <td>235.0</td>\n",
              "      <td>100.00</td>\n",
              "      <td>5/30/12</td>\n",
              "      <td>...</td>\n",
              "      <td>234.589942</td>\n",
              "      <td>330.895379</td>\n",
              "      <td>10184.682491</td>\n",
              "      <td>660.826952</td>\n",
              "      <td>1176.694165</td>\n",
              "      <td>15.096921</td>\n",
              "      <td>400.0</td>\n",
              "      <td>54.520418</td>\n",
              "      <td>0.0</td>\n",
              "      <td>36965.0</td>\n",
              "    </tr>\n",
              "    <tr>\n",
              "      <th>4</th>\n",
              "      <td>ID_SWAMNY.mgb</td>\n",
              "      <td>Stool</td>\n",
              "      <td>Subject_VGLNCV</td>\n",
              "      <td>Sample_NTDTEQ</td>\n",
              "      <td>0.882667</td>\n",
              "      <td>Normal</td>\n",
              "      <td>IR</td>\n",
              "      <td>162.0</td>\n",
              "      <td>99.00</td>\n",
              "      <td>10/21/13</td>\n",
              "      <td>...</td>\n",
              "      <td>207.848811</td>\n",
              "      <td>304.064072</td>\n",
              "      <td>9424.953170</td>\n",
              "      <td>741.731826</td>\n",
              "      <td>1259.429265</td>\n",
              "      <td>14.277080</td>\n",
              "      <td>400.0</td>\n",
              "      <td>53.709731</td>\n",
              "      <td>0.0</td>\n",
              "      <td>40236.0</td>\n",
              "    </tr>\n",
              "  </tbody>\n",
              "</table>\n",
              "<p>5 rows × 91 columns</p>\n",
              "</div>"
            ],
            "text/plain": [
              "        filename SampleType       SubjectID       SampleID  FPG_Mean  \\\n",
              "0  ID_LETPJN.mgb      Stool  Subject_BCUNIB  Sample_AFTIWE  1.063333   \n",
              "1  ID_NTDGIW.mgb      Stool  Subject_UDAXIH  Sample_JQJVNK  1.274432   \n",
              "2  ID_ZISBMF.mgb      Nasal  Subject_VRKADI  Sample_YJWGWW  0.899545   \n",
              "3  ID_MDCVXU.mgb      Nasal  Subject_HIFZWD  Sample_VKEHZP  0.800000   \n",
              "4  ID_SWAMNY.mgb      Stool  Subject_VGLNCV  Sample_NTDTEQ  0.882667   \n",
              "\n",
              "     FPG_class     IRIS   SSPG     FPG SSPG.Date  ...       CD40L       ENA78  \\\n",
              "0  Prediabetes  Unknown    NaN     NaN       NaN  ...  282.210259  260.803223   \n",
              "1     Diabetes       IS   91.5  131.75    8/7/14  ...         NaN         NaN   \n",
              "2       Normal       IR  220.0   95.00  12/18/12  ...         NaN         NaN   \n",
              "3       Normal       IR  235.0  100.00   5/30/12  ...  234.589942  330.895379   \n",
              "4       Normal       IR  162.0   99.00  10/21/13  ...  207.848811  304.064072   \n",
              "\n",
              "          CHEX1       CHEX2        CHEX3      CHEX4 avg_read_length  \\\n",
              "0  10348.221434  615.135794  1145.764405  15.090773           400.0   \n",
              "1           NaN         NaN          NaN        NaN           400.0   \n",
              "2           NaN         NaN          NaN        NaN           400.0   \n",
              "3  10184.682491  660.826952  1176.694165  15.096921           400.0   \n",
              "4   9424.953170  741.731826  1259.429265  14.277080           400.0   \n",
              "\n",
              "  gc_content n_content read_count  \n",
              "0  52.814633       0.0    21599.0  \n",
              "1  53.574193       0.0    20295.0  \n",
              "2  55.170314       0.0    16449.0  \n",
              "3  54.520418       0.0    36965.0  \n",
              "4  53.709731       0.0    40236.0  \n",
              "\n",
              "[5 rows x 91 columns]"
            ]
          },
          "execution_count": 21,
          "metadata": {},
          "output_type": "execute_result"
        }
      ],
      "source": [
        "# Combine sequence features with metadata\n",
        "train_processed_df = pd.merge(train_full_df, train_features_df, on='filename', how='left')\n",
        "test_processed_df = pd.merge(test_df, test_features_df, on='filename', how='left')\n",
        "\n",
        "print(\"Training data shape after adding sequence features:\", train_processed_df.shape)\n",
        "print(\"Test data shape after adding sequence features:\", test_processed_df.shape)\n",
        "\n",
        "test_processed_df.head()"
      ]
    },
    {
      "cell_type": "code",
      "execution_count": 22,
      "id": "d26ac304",
      "metadata": {},
      "outputs": [
        {
          "name": "stdout",
          "output_type": "stream",
          "text": [
            "Final processed training data shape: (2901, 157)\n",
            "Final processed test data shape: (1068, 157)\n",
            "Processed data saved to 'train_processed.csv', 'test_processed.csv', and 'train_labels.csv'\n"
          ]
        }
      ],
      "source": [
        "# Final preprocessing steps\n",
        "# Handle Missing Values\n",
        "for col in train_processed_df.columns:\n",
        "    if train_processed_df[col].dtype == 'object':\n",
        "        train_processed_df[col].fillna(train_processed_df[col].mode()[0], inplace=True)\n",
        "    else:\n",
        "        train_processed_df[col].fillna(train_processed_df[col].mean(), inplace=True)\n",
        "\n",
        "for col in test_processed_df.columns:\n",
        "    if test_processed_df[col].dtype == 'object':\n",
        "        test_processed_df[col].fillna(test_processed_df[col].mode()[0], inplace=True)\n",
        "    else:\n",
        "        test_processed_df[col].fillna(test_processed_df[col].mean(), inplace=True)\n",
        "\n",
        "# Encode Categorical Variables: recompute per DataFrame\n",
        "cat_cols_train = [col for col in train_processed_df.columns \n",
        "                if train_processed_df[col].dtype == 'object' and col not in ['filename', 'SampleID', 'SubjectID', 'SampleType']]\n",
        "\n",
        "cat_cols_test = [col for col in test_processed_df.columns \n",
        "                if test_processed_df[col].dtype == 'object' and col not in ['filename', 'SampleID']]\n",
        "\n",
        "# Apply one-hot encoding\n",
        "train_processed_df = pd.get_dummies(train_processed_df, columns=cat_cols_train, drop_first=True)\n",
        "test_processed_df = pd.get_dummies(test_processed_df, columns=cat_cols_test, drop_first=True)\n",
        "\n",
        "# Align columns\n",
        "train_labels = train_processed_df['SampleType']\n",
        "train_ids = train_processed_df[['filename', 'SampleID', 'SubjectID']]\n",
        "test_ids = test_processed_df[['filename']]\n",
        "# Encode target labels into numerical values\n",
        "label_map = {label: idx for idx, label in enumerate(train_labels.unique())}\n",
        "\n",
        "\n",
        "train_df_aligned, test_df_aligned = train_processed_df.drop(columns=['SampleType', 'filename', 'SampleID', 'SubjectID']).align(test_processed_df.drop(columns=['filename']), join='left', axis=1, fill_value=0)\n",
        "\n",
        "print(\"Final processed training data shape:\", train_df_aligned.shape)\n",
        "print(\"Final processed test data shape:\", test_df_aligned.shape)\n",
        "\n",
        "# Save processed data\n",
        "train_df_aligned.to_csv('train_processed.csv', index=False)\n",
        "test_df_aligned.to_csv('test_processed.csv', index=False)\n",
        "train_labels.to_csv('train_labels.csv', index=False)\n",
        "\n",
        "print(\"Processed data saved to 'train_processed.csv', 'test_processed.csv', and 'train_labels.csv'\")"
      ]
    },
    {
      "cell_type": "code",
      "execution_count": null,
      "id": "d59f0af2",
      "metadata": {},
      "outputs": [
        {
          "name": "stdout",
          "output_type": "stream",
          "text": [
            "[t-SNE] Computing pairwise distances...\n",
            "[t-SNE] Computed conditional probabilities for sample 1000 / 2901\n",
            "[t-SNE] Computed conditional probabilities for sample 2000 / 2901\n",
            "[t-SNE] Computed conditional probabilities for sample 2901 / 2901\n",
            "[t-SNE] Mean sigma: 0.300210\n",
            "[t-SNE] KL divergence after 250 iterations with early exaggeration: 55.546105\n",
            "[t-SNE] KL divergence after 500 iterations: 0.229623\n"
          ]
        },
        {
          "data": {
            "image/png": "[encoded data removed]",
            "text/plain": [
              "<Figure size 576x432 with 1 Axes>"
            ]
          },
          "metadata": {
            "needs_background": "light"
          },
          "output_type": "display_data"
        }
      ],
      "source": [
        "# Standardize features\n",
        "scaler = StandardScaler()\n",
        "X_scaled = scaler.fit_transform(train_df_aligned)\n",
        "\n",
        "# Convert labels to numeric\n",
        "y_numeric = train_labels.map(label_map) if not np.issubdtype(train_labels.dtype, np.number) else train_labels\n",
        "\n",
        "# Run t-SNE\n",
        "tsne = TSNE(\n",
        "    n_components=2,\n",
        "    perplexity=40,         \n",
        "    learning_rate=200,    \n",
        "    n_iter=500, \n",
        "    method='exact',   \n",
        "    random_state=42,\n",
        "    verbose=1\n",
        ")\n",
        "\n",
        "X_tsne = tsne.fit_transform(X_scaled)\n",
        "\n",
        "# Plot t-SNE projection\n",
        "plt.figure(figsize=(8, 6))\n",
        "palette = sns.color_palette(\"viridis\", len(np.unique(y_numeric)))\n",
        "sns.scatterplot(\n",
        "    x=X_tsne[:, 0], \n",
        "    y=X_tsne[:, 1], \n",
        "    hue=y_numeric, \n",
        "    palette=palette,\n",
        "    alpha=0.7,\n",
        "    edgecolor='k',\n",
        "    s=50\n",
        ")\n",
        "plt.title(\"t-SNE Projection of Microbiome Features\")\n",
        "plt.xlabel(\"t-SNE Component 1\")\n",
        "plt.ylabel(\"t-SNE Component 2\")\n",
        "plt.legend(title=\"Class\", loc=\"best\", bbox_to_anchor=(1.05, 1))\n",
        "plt.grid(True)\n",
        "plt.tight_layout()\n",
        "plt.show()\n"
      ]
    },
    {
      "cell_type": "markdown",
      "id": "289f540f",
      "metadata": {},
      "source": [
        " > . The t-SNE projection captures **non-linear relationships**, grouping microbiome samples into tighter, more distinct local clusters by body site. It excels at showing local similarities but does not preserve global distances.\n",
        "\n",
        " > . The t-SNE plot shows **tight local clusters** of **same-class points** (indicating strong local similarity in microbiome composition).\n",
        "\n",
        " > . It uses the **perplexity parameter** (like a balance between local and global structure) to decide how many neighbors to consider when building the low-dimensional map.\n",
        "\n",
        " > . The t-SNE plot is great for visualizing **high-dimensional biological data** with subtle patterns."
      ]
    },
    {
      "cell_type": "code",
      "execution_count": 30,
      "id": "7bb10688",
      "metadata": {},
      "outputs": [
        {
          "data": {
            "image/png": "[encoded data removed]",
            "text/plain": [
              "<Figure size 576x432 with 1 Axes>"
            ]
          },
          "metadata": {
            "needs_background": "light"
          },
          "output_type": "display_data"
        },
        {
          "name": "stdout",
          "output_type": "stream",
          "text": [
            "Explained variance ratio: [0.18788475 0.06100939]\n",
            "Total variance explained by first 2 PCs: 24.89%\n"
          ]
        }
      ],
      "source": [
        "# PCA\n",
        "pca = PCA(n_components=2)  # Project to 2D for visualization\n",
        "X_pca = pca.fit_transform(X_scaled)\n",
        "\n",
        "# Create DataFrame for plotting\n",
        "pca_df = pd.DataFrame({\n",
        "    'PC1': X_pca[:, 0],\n",
        "    'PC2': X_pca[:, 1],\n",
        "    'Label': y_numeric\n",
        "})\n",
        "\n",
        "# Plot PCA results\n",
        "plt.figure(figsize=(8, 6))\n",
        "sns.scatterplot(\n",
        "    data=pca_df,\n",
        "    x='PC1', y='PC2',\n",
        "    hue='Label',\n",
        "    palette='viridis',\n",
        "    alpha=0.7\n",
        ")\n",
        "plt.title('PCA Projection of Microbiome Features', fontsize=14)\n",
        "plt.xlabel(f\"PC1 ({pca.explained_variance_ratio_[0]*100:.2f}% variance)\")\n",
        "plt.ylabel(f\"PC2 ({pca.explained_variance_ratio_[1]*100:.2f}% variance)\")\n",
        "plt.legend(title='Class', bbox_to_anchor=(1.05, 1), loc='upper left')\n",
        "plt.grid(True)\n",
        "plt.tight_layout()\n",
        "plt.show()\n",
        "# Print variance explained\n",
        "print(\"Explained variance ratio:\", pca.explained_variance_ratio_)\n",
        "print(f\"Total variance explained by first 2 PCs: {pca.explained_variance_ratio_[:2].sum()*100:.2f}%\")\n"
      ]
    },
    {
      "cell_type": "markdown",
      "id": "7b8ea993",
      "metadata": {},
      "source": [
        "> . PCA captures **linear relationships**, overall **variance structure** and is useful for **feature interpretability**\n",
        "\n",
        "> . **PC1 (Principal Component 1)** captures the direction of maximum variance in the dataset; **PC2** captures the second-highest variance orthogonal to PC1\n",
        "\n",
        "> . The points are color-coded by body site class.\n",
        "\n",
        "> . In the plot above, the spread along PC1 and PC2 suggests there is some separation, but many points **overlap**—meaning linear projections don’t fully distinguish classes.\n",
        "\n",
        "> . The clusters are elongated and overlapping, which is common in biological data due to **subtle differences** between microbiomes."
      ]
    },
    {
      "cell_type": "markdown",
      "id": "928e4cbf",
      "metadata": {},
      "source": [
        "## **Modelling**"
      ]
    },
    {
      "cell_type": "code",
      "execution_count": 31,
      "id": "54ba09da",
      "metadata": {},
      "outputs": [],
      "source": [
        "# Load Processed Data \n",
        "train_features_path = os.path.join( r\".\\train_processed.csv\")\n",
        "test_features_path = os.path.join(r\".\\test_processed.csv\")\n",
        "train_labels_path = os.path.join(r\".\\train_labels.csv\")\n",
        "sample_submission_path = os.path.join(r\".\\Other Files\\SampleSubmission.csv\")"
      ]
    },
    {
      "cell_type": "code",
      "execution_count": 32,
      "id": "2ecf48b2",
      "metadata": {},
      "outputs": [
        {
          "name": "stdout",
          "output_type": "stream",
          "text": [
            "Training features shape: (2901, 157)\n",
            "Test features shape: (1068, 157)\n"
          ]
        }
      ],
      "source": [
        "# Read the processed data\n",
        "X = pd.read_csv(train_features_path)\n",
        "y_df = pd.read_csv(train_labels_path)\n",
        "y = y_df.iloc[:, 0] # Get the first column as a Series\n",
        "X_test = pd.read_csv(test_features_path)\n",
        "sample_submission_df = pd.read_csv(sample_submission_path)\n",
        "\n",
        "print(f\"Training features shape: {X.shape}\")\n",
        "print(f\"Test features shape: {X_test.shape}\")\n"
      ]
    },
    {
      "cell_type": "code",
      "execution_count": 33,
      "id": "cfa93659",
      "metadata": {},
      "outputs": [
        {
          "name": "stdout",
          "output_type": "stream",
          "text": [
            "Encoding target labels...\n",
            "Encoded labels for classes: ['Mouth', 'Nasal', 'Skin', 'Stool']\n"
          ]
        }
      ],
      "source": [
        "# Encode Target Labels \n",
        "# The target variable 'SampleType' is categorical. We need to convert it into numerical labels for the models to process.\n",
        "print(\"Encoding target labels...\")\n",
        "label_encoder = LabelEncoder()\n",
        "y_encoded = label_encoder.fit_transform(y)\n",
        "print(f\"Encoded labels for classes: {list(label_encoder.classes_)}\")\n"
      ]
    },
    {
      "cell_type": "code",
      "execution_count": 34,
      "id": "da0ab9d0",
      "metadata": {},
      "outputs": [
        {
          "name": "stdout",
          "output_type": "stream",
          "text": [
            "Splitting data into training and validation sets...\n",
            "Training set size: 2320\n",
            "Validation set size: 581\n"
          ]
        }
      ],
      "source": [
        "# Split Data for Validation\n",
        "# We split the training data into a training set and a validation set.This allows us to evaluate our models on data they haven't seen during training.\n",
        "print(\"Splitting data into training and validation sets...\")\n",
        "X_train, X_val, y_train, y_val = train_test_split(\n",
        "    X, y_encoded, test_size=0.2, random_state=42, stratify=y_encoded\n",
        ")\n",
        "print(f\"Training set size: {len(X_train)}\")\n",
        "print(f\"Validation set size: {len(X_val)}\")"
      ]
    },
    {
      "cell_type": "markdown",
      "id": "46bb98fa-d8a2-43f2-8ac7-8778a9c81114",
      "metadata": {
        "id": "46bb98fa-d8a2-43f2-8ac7-8778a9c81114"
      },
      "source": [
        "### **RandomForestClassifier - Tuned model**\n"
      ]
    },
    {
      "cell_type": "code",
      "execution_count": 36,
      "id": "381ff833",
      "metadata": {},
      "outputs": [
        {
          "name": "stdout",
          "output_type": "stream",
          "text": [
            "\n",
            " Tuning RandomForestClassifier \n",
            "Fitting 3 folds for each of 48 candidates, totalling 144 fits\n",
            "GridSearch took 2.68 minutes.\n",
            " Best Parameters Found: {'max_depth': 10, 'max_features': 'sqrt', 'min_samples_leaf': 2, 'min_samples_split': 5, 'n_estimators': 100}\n"
          ]
        }
      ],
      "source": [
        "# Train and Evaluate RandomForest Classifier\n",
        "# Define Hyperparameter Grid\n",
        "param_grid = {\n",
        "    'n_estimators': [100, 200],\n",
        "    'max_depth': [10, 20, None],\n",
        "    'min_samples_split': [2, 5],\n",
        "    'min_samples_leaf': [1, 2],\n",
        "    'max_features': ['sqrt', 'log2']\n",
        "}\n",
        "\n",
        "# Setup GridSearch\n",
        "rf_base = RandomForestClassifier(random_state=42, n_jobs=-1)\n",
        "grid_search = GridSearchCV(\n",
        "    estimator=rf_base,\n",
        "    param_grid=param_grid,\n",
        "    cv=3,\n",
        "    scoring='accuracy',\n",
        "    n_jobs=-1,\n",
        "    verbose=2\n",
        ")\n",
        "\n",
        "# Fit Model \n",
        "print(\"\\n Tuning RandomForestClassifier \")\n",
        "start_time = time.time()\n",
        "grid_search.fit(X_train, y_train)\n",
        "end_time = time.time()\n",
        "print(f\"GridSearch took {(end_time - start_time)/60:.2f} minutes.\")\n",
        "\n",
        "# Best Parameters and Model \n",
        "best_rf = grid_search.best_estimator_\n",
        "print(\" Best Parameters Found:\", grid_search.best_params_)"
      ]
    },
    {
      "cell_type": "code",
      "execution_count": 37,
      "id": "aaa1240e",
      "metadata": {},
      "outputs": [
        {
          "name": "stdout",
          "output_type": "stream",
          "text": [
            "\n",
            "Validation Set Performance (RandomForest):"
          ]
        },
        {
          "name": "stdout",
          "output_type": "stream",
          "text": [
            "\n",
            "Accuracy: 0.7194\n",
            "Classification Report:\n",
            "              precision    recall  f1-score   support\n",
            "\n",
            "       Mouth       0.77      0.77      0.77       119\n",
            "       Nasal       0.61      0.66      0.64       142\n",
            "        Skin       0.82      0.83      0.83       158\n",
            "       Stool       0.68      0.62      0.65       162\n",
            "\n",
            "    accuracy                           0.72       581\n",
            "   macro avg       0.72      0.72      0.72       581\n",
            "weighted avg       0.72      0.72      0.72       581\n",
            "\n"
          ]
        },
        {
          "data": {
            "image/png": "[encoded data removed]",
            "text/plain": [
              "<Figure size 576x432 with 1 Axes>"
            ]
          },
          "metadata": {
            "needs_background": "light"
          },
          "output_type": "display_data"
        }
      ],
      "source": [
        "# Evaluate on the validation set\n",
        "print(\"\\nValidation Set Performance (RandomForest):\")\n",
        "rf_preds = best_rf.predict(X_val)\n",
        "rf_accuracy = accuracy_score(y_val, rf_preds)\n",
        "print(f\"Accuracy: {rf_accuracy:.4f}\")\n",
        "print(\"Classification Report:\")\n",
        "print(classification_report(y_val, rf_preds, target_names=label_encoder.classes_))\n",
        "\n",
        "# ROC Curve and AUC \n",
        "# Binarize the output for multi-class ROC/AUC\n",
        "y_val_binarized = label_binarize(y_val, classes=range(len(label_encoder.classes_)))\n",
        "rf_probs = best_rf.predict_proba(X_val)\n",
        "\n",
        "# Compute ROC curve and AUC for each class\n",
        "fpr = dict()\n",
        "tpr = dict()\n",
        "roc_auc = dict()\n",
        "n_classes = len(label_encoder.classes_)\n",
        "\n",
        "for i in range(n_classes):\n",
        "    fpr[i], tpr[i], _ = roc_curve(y_val_binarized[:, i], rf_probs[:, i])\n",
        "    roc_auc[i] = auc(fpr[i], tpr[i])\n",
        "\n",
        "# Plot ROC curve\n",
        "plt.figure(figsize=(8, 6))\n",
        "for i in range(n_classes):\n",
        "    plt.plot(fpr[i], tpr[i], label=f\"Class {label_encoder.classes_[i]} (AUC = {roc_auc[i]:.2f})\")\n",
        "\n",
        "plt.plot([0, 1], [0, 1], 'k--')  # Diagonal\n",
        "plt.xlim([0.0, 1.0])\n",
        "plt.ylim([0.0, 1.05])\n",
        "plt.xlabel('False Positive Rate')\n",
        "plt.ylabel('True Positive Rate')\n",
        "plt.title('ROC Curve - Random Forest')\n",
        "plt.legend(loc='lower right')\n",
        "plt.grid()\n",
        "plt.tight_layout()\n",
        "plt.show()\n"
      ]
    },
    {
      "cell_type": "markdown",
      "id": "b0970872",
      "metadata": {},
      "source": [
        ">   . The tuned Random Forest model achieved an overall **accuracy** of **71.9%** on the validation set.\n",
        "    \n",
        ">  . Performance across classes was generally strong, with **Skin (F1 = 0.83)** and **Mouth (F1 = 0.77)** showing the highest predictive accuracy, indicating clear feature separation for these categories.\n",
        "\n",
        ">   . **Nasal (F1 = 0.64)** had the weakest performance, suggesting greater overlap with other classes or less distinctive features.\n",
        "\n",
        ">   . **Stool** performed fairly well **(F1 = 0.65)**\n",
        "\n",
        ">   . The **macro-average F1-score (0.72)** and **weighted-average F1-score (0.72)** indicate that the model handles class balance reasonably well."
      ]
    },
    {
      "cell_type": "markdown",
      "id": "a4bae371",
      "metadata": {},
      "source": [
        "#### **SHAP(SHapley Additive exPlanations) Explainer**"
      ]
    },
    {
      "cell_type": "code",
      "execution_count": 38,
      "id": "bd69c7d4",
      "metadata": {},
      "outputs": [
        {
          "data": {
            "image/png": "[encoded data removed]",
            "text/plain": [
              "<Figure size 576x684 with 1 Axes>"
            ]
          },
          "metadata": {
            "needs_background": "light"
          },
          "output_type": "display_data"
        }
      ],
      "source": [
        "# Sample 1500 records to compute SHAP\n",
        "X_sample = X_train.sample(n=1500, random_state=42)\n",
        "explainer = shap.TreeExplainer(best_rf)\n",
        "shap_values = explainer.shap_values(X_sample)\n",
        "\n",
        "# Plot summary\n",
        "shap.summary_plot(shap_values, X_sample)\n"
      ]
    },
    {
      "cell_type": "markdown",
      "id": "a791fc72",
      "metadata": {},
      "source": [
        "**Feature Importance (SHAP/RandomForest Plot)**\n",
        "\n",
        "> . The plot above shows that your most influential features used by the RandomForest model in predicting microbiome sample type (Mouth, Nasal, Skin, Stool) are:\n",
        "\n",
        "| Feature                  | Notes                                                                             |\n",
        "| ------------------------ | --------------------------------------------------------------------------------- |\n",
        "| **avg\\_read\\_length**    | Most influential — possibly reflects sequencing protocol or sample complexity. |\n",
        "| **gc\\_content**          | Strongly indicative of microbial composition.                                     |\n",
        "| **read\\_count**          | A proxy for sequencing depth, which can hint at biomass or complexity.            |\n",
        "| **Adj\\_age**             | Possibly reflects host factors affecting microbiome.                              |\n",
        "| Others (OGTT, BMI, etc.) | Minor contributions — possibly useful in ensemble or stacked models.              |\n",
        "\n",
        "> . Biological features (cytokines, metadata) have low influence compared to sequence-derived stats. This suggests the sequencing features carry the bulk of predictive signal."
      ]
    },
    {
      "cell_type": "markdown",
      "id": "d45e7777",
      "metadata": {},
      "source": [
        "### **XGboost - Tuned Model**"
      ]
    },
    {
      "cell_type": "code",
      "execution_count": 39,
      "id": "01d184f7",
      "metadata": {},
      "outputs": [
        {
          "name": "stdout",
          "output_type": "stream",
          "text": [
            "Training XGBoost Classifier\n",
            "Fitting 3 folds for each of 108 candidates, totalling 324 fits\n",
            "Best Parameters: {'colsample_bytree': 1.0, 'learning_rate': 0.01, 'max_depth': 5, 'n_estimators': 300, 'subsample': 0.8}\n",
            "Best CV Score: 0.8663846463268828\n"
          ]
        }
      ],
      "source": [
        "# Train and Evaluate XGBoost Classifier\n",
        "print(\"Training XGBoost Classifier\")\n",
        "# Define the model\n",
        "xgb_model = XGBClassifier(\n",
        "    use_label_encoder=False,\n",
        "    eval_metric='mlogloss',\n",
        "    random_state=42\n",
        ")\n",
        "\n",
        "# Define parameter grid for tuning\n",
        "param_grid = {\n",
        "    'n_estimators': [100, 200, 300],\n",
        "    'max_depth': [3, 5, 7],\n",
        "    'learning_rate': [0.01, 0.1, 0.2],\n",
        "    'subsample': [0.8, 1.0],\n",
        "    'colsample_bytree': [0.8, 1.0]\n",
        "}\n",
        "\n",
        "# GridSearchCV setup\n",
        "grid_search = GridSearchCV(\n",
        "    estimator=xgb_model,\n",
        "    param_grid=param_grid,\n",
        "    scoring='accuracy',    \n",
        "    cv=3,                  \n",
        "    verbose=2,\n",
        "    n_jobs=-1\n",
        ")\n",
        "\n",
        "# Fit the grid search\n",
        "grid_search.fit(X_train, y_train)\n",
        "\n",
        "# Best parameters and model\n",
        "print(\"Best Parameters:\", grid_search.best_params_)\n",
        "print(\"Best CV Score:\", grid_search.best_score_)"
      ]
    },
    {
      "cell_type": "code",
      "execution_count": 40,
      "id": "4a452f82",
      "metadata": {},
      "outputs": [
        {
          "name": "stdout",
          "output_type": "stream",
          "text": [
            "Validation Set Performance (XGBoost - Tuned):\n",
            "Accuracy: 0.8692\n",
            "Classification Report:\n",
            "              precision    recall  f1-score   support\n",
            "\n",
            "       Mouth       0.88      0.88      0.88       119\n",
            "       Nasal       0.87      0.78      0.82       142\n",
            "        Skin       0.91      0.91      0.91       158\n",
            "       Stool       0.82      0.90      0.86       162\n",
            "\n",
            "    accuracy                           0.87       581\n",
            "   macro avg       0.87      0.87      0.87       581\n",
            "weighted avg       0.87      0.87      0.87       581\n",
            "\n"
          ]
        },
        {
          "data": {
            "image/png": "[encoded data removed]",
            "text/plain": [
              "<Figure size 576x432 with 1 Axes>"
            ]
          },
          "metadata": {
            "needs_background": "light"
          },
          "output_type": "display_data"
        }
      ],
      "source": [
        "# Evaluate on the validation set\n",
        "print(\"Validation Set Performance (XGBoost - Tuned):\")\n",
        "best_xgb = grid_search.best_estimator_\n",
        "xgb_preds = best_xgb.predict(X_val)\n",
        "xgb_accuracy = accuracy_score(y_val, xgb_preds)\n",
        "print(f\"Accuracy: {xgb_accuracy:.4f}\")\n",
        "print(\"Classification Report:\")\n",
        "print(classification_report(y_val, xgb_preds, target_names=label_encoder.classes_))\n",
        "\n",
        "# ROC and AUC evaluation \n",
        "# Binarize the labels for multiclass ROC\n",
        "y_val_binarized = label_binarize(y_val, classes=range(len(label_encoder.classes_)))\n",
        "xgb_probs = best_xgb.predict_proba(X_val)\n",
        "\n",
        "fpr, tpr, roc_auc = {}, {}, {}\n",
        "n_classes = len(label_encoder.classes_)\n",
        "\n",
        "for i in range(n_classes):\n",
        "    fpr[i], tpr[i], _ = roc_curve(y_val_binarized[:, i], xgb_probs[:, i])\n",
        "    roc_auc[i] = auc(fpr[i], tpr[i])\n",
        "\n",
        "# Plot ROC Curves\n",
        "plt.figure(figsize=(8, 6))\n",
        "for i in range(n_classes):\n",
        "    plt.plot(fpr[i], tpr[i], label=f\"Class {label_encoder.classes_[i]} (AUC = {roc_auc[i]:.2f})\")\n",
        "\n",
        "plt.plot([0, 1], [0, 1], 'k--', label='Chance')\n",
        "plt.xlim([0.0, 1.0])\n",
        "plt.ylim([0.0, 1.05])\n",
        "plt.xlabel('False Positive Rate')\n",
        "plt.ylabel('True Positive Rate')\n",
        "plt.title('ROC Curve - Tuned XGBoost Classifier')\n",
        "plt.legend(loc='lower right')\n",
        "plt.grid(True)\n",
        "plt.tight_layout()\n",
        "plt.show()\n"
      ]
    },
    {
      "cell_type": "markdown",
      "id": "c459e23c",
      "metadata": {},
      "source": [
        "> . The tuned XGBoost model achieved an **accuracy** of **86.9%** on the validation set.\n",
        "\n",
        "> . **Skin (F1 = 0.91)** and Mouth **(F1 = 0.88)** were predicted with the highest consistency.\n",
        "\n",
        "> . **Stool (F1 = 0.86)** also performed well, benefiting from high **recall (0.90)**.\n",
        "\n",
        "> . **Nasal (F1 = 0.82)** had slightly lower **recall (0.78)**, suggesting some misclassification with other classes, but still demonstrated robust precision. \n",
        "\n",
        "> .  **Macro** and **weighted averages** (**both 0.87**) confirm balanced performance across all classes, indicating that the model generalizes well without favoring a specific class."
      ]
    },
    {
      "cell_type": "markdown",
      "id": "e70e2bb8",
      "metadata": {},
      "source": [
        "#### **SHAP(SHapley Additive exPlanations) Explainer**"
      ]
    },
    {
      "cell_type": "code",
      "execution_count": 44,
      "id": "e75bbbd1",
      "metadata": {},
      "outputs": [
        {
          "data": {
            "image/png": "[encoded data removed]",
            "text/plain": [
              "<Figure size 576x684 with 1 Axes>"
            ]
          },
          "metadata": {
            "needs_background": "light"
          },
          "output_type": "display_data"
        }
      ],
      "source": [
        "# Sample 1500 records to compute SHAP\n",
        "X_sample = X_train.sample(n=1500, random_state=42)\n",
        "explainer = shap.TreeExplainer(best_xgb)\n",
        "shap_values = explainer.shap_values(X_sample)\n",
        "\n",
        "# Plot summary\n",
        "shap.summary_plot(shap_values, X_sample)\n"
      ]
    },
    {
      "cell_type": "markdown",
      "id": "8987909d",
      "metadata": {},
      "source": [
        "**Feature Importance (SHAP/XGBoost Plot)**\n",
        "\n",
        "> . The plot above shows that your most influential features used by the XGBoost model in predicting microbiome sample type (Mouth, Nasal, Skin, Stool) are:\n",
        "\n",
        "| Feature                  | Notes                                                                             |\n",
        "| ------------------------ | --------------------------------------------------------------------------------- |\n",
        "| **avg\\_read\\_length**    | Most influential — possibly reflects sequencing protocol or sample complexity. |\n",
        "| **gc\\_content**          | Strongly indicative of microbial composition.                                     |\n",
        "| **read\\_count**          | A proxy for sequencing depth, which can hint at biomass or complexity.            |\n",
        "| **Adj\\_age**             | Possibly reflects host factors affecting microbiome.                              |\n",
        "| Others (OGTT, BMI, etc.) | Minor contributions — possibly useful in ensemble or stacked models.              |\n",
        "\n",
        "> . Biological features (cytokines, metadata) have low influence compared to sequence-derived stats. This suggests the sequencing features carry the bulk of predictive signal."
      ]
    },
    {
      "cell_type": "markdown",
      "id": "d5055d92",
      "metadata": {},
      "source": [
        "### **LightGBM Classifier - Tuned**"
      ]
    },
    {
      "cell_type": "code",
      "execution_count": 41,
      "id": "a2d04d49",
      "metadata": {},
      "outputs": [
        {
          "name": "stdout",
          "output_type": "stream",
          "text": [
            "Fitting 3 folds for each of 324 candidates, totalling 972 fits\n",
            "[LightGBM] [Info] Auto-choosing col-wise multi-threading, the overhead of testing was 0.009184 seconds.\n",
            "You can set `force_col_wise=true` to remove the overhead.\n",
            "[LightGBM] [Info] Total Bins 17137\n",
            "[LightGBM] [Info] Number of data points in the train set: 2320, number of used features: 142\n",
            "[LightGBM] [Info] Start training from score -1.588115\n",
            "[LightGBM] [Info] Start training from score -1.407201\n",
            "[LightGBM] [Info] Start training from score -1.305191\n",
            "[LightGBM] [Info] Start training from score -1.273890\n",
            "[LightGBM] [Warning] No further splits with positive gain, best gain: -inf\n",
            "Best Parameters: {'colsample_bytree': 1.0, 'learning_rate': 0.01, 'max_depth': 10, 'n_estimators': 200, 'num_leaves': 31, 'subsample': 0.8}\n",
            "Best CV Score: 0.8590533431834313\n"
          ]
        }
      ],
      "source": [
        "# Function to clean column names \n",
        "def clean_column_names(df):\n",
        "    df.columns = df.columns.str.replace('[^A-Za-z0-9_]+', '_', regex=True)\n",
        "    return df\n",
        "\n",
        "X_train = clean_column_names(X_train)\n",
        "X_val = clean_column_names(X_val)\n",
        "\n",
        "# Base LightGBM Model\n",
        "lgb_base = lgb.LGBMClassifier(\n",
        "    random_state=42,\n",
        "    n_jobs=-1\n",
        ")\n",
        "\n",
        "# Parameter Grid for Tuning\n",
        "param_grid = {\n",
        "    'n_estimators': [100, 200, 300],\n",
        "    'max_depth': [-1, 10, 20],\n",
        "    'learning_rate': [0.01, 0.05, 0.1],\n",
        "    'num_leaves': [31, 63, 127],\n",
        "    'subsample': [0.8, 1.0],\n",
        "    'colsample_bytree': [0.8, 1.0]\n",
        "}\n",
        "\n",
        "# GridSearchCV\n",
        "grid_search = GridSearchCV(\n",
        "    estimator=lgb_base,\n",
        "    param_grid=param_grid,\n",
        "    scoring='accuracy', \n",
        "    cv=3,\n",
        "    verbose=2,\n",
        "    n_jobs=-1\n",
        ")\n",
        "\n",
        "grid_search.fit(X_train, y_train)\n",
        "\n",
        "# Best Parameters and Model\n",
        "best_lgb = grid_search.best_estimator_\n",
        "print(\"Best Parameters:\", grid_search.best_params_)\n",
        "print(\"Best CV Score:\", grid_search.best_score_)"
      ]
    },
    {
      "cell_type": "markdown",
      "id": "7830c5f5",
      "metadata": {},
      "source": [
        "### **Evaluation**"
      ]
    },
    {
      "cell_type": "code",
      "execution_count": 42,
      "id": "a0a5a52f",
      "metadata": {},
      "outputs": [
        {
          "name": "stdout",
          "output_type": "stream",
          "text": [
            "Validation Set Performance (LightGBM - Tuned):\n",
            "Accuracy: 0.8640\n",
            "Classification Report:\n",
            "              precision    recall  f1-score   support\n",
            "\n",
            "       Mouth       0.87      0.86      0.86       119\n",
            "       Nasal       0.87      0.79      0.83       142\n",
            "        Skin       0.89      0.91      0.90       158\n",
            "       Stool       0.83      0.90      0.86       162\n",
            "\n",
            "    accuracy                           0.86       581\n",
            "   macro avg       0.87      0.86      0.86       581\n",
            "weighted avg       0.86      0.86      0.86       581\n",
            "\n"
          ]
        },
        {
          "data": {
            "image/png": "[encoded data removed]",
            "text/plain": [
              "<Figure size 576x432 with 1 Axes>"
            ]
          },
          "metadata": {
            "needs_background": "light"
          },
          "output_type": "display_data"
        }
      ],
      "source": [
        "# Evaluate on the validation set\n",
        "print(\"Validation Set Performance (LightGBM - Tuned):\")\n",
        "lgb_preds = best_lgb.predict(X_val)\n",
        "lgb_accuracy = accuracy_score(y_val, lgb_preds)\n",
        "print(f\"Accuracy: {lgb_accuracy:.4f}\")\n",
        "print(\"Classification Report:\")\n",
        "print(classification_report(y_val, lgb_preds, target_names=label_encoder.classes_))\n",
        "\n",
        "# ROC Curve and AUC \n",
        "# Binarize the output for multi-class ROC AUC\n",
        "y_val_binarized = label_binarize(y_val, classes=range(len(label_encoder.classes_)))\n",
        "lgb_probs = best_lgb.predict_proba(X_val)\n",
        "\n",
        "# Compute ROC curve and AUC for each class\n",
        "fpr = dict()\n",
        "tpr = dict()\n",
        "roc_auc = dict()\n",
        "n_classes = len(label_encoder.classes_)\n",
        "\n",
        "for i in range(n_classes):\n",
        "    fpr[i], tpr[i], _ = roc_curve(y_val_binarized[:, i], lgb_probs[:, i])\n",
        "    roc_auc[i] = auc(fpr[i], tpr[i])\n",
        "\n",
        "# Plot ROC curve\n",
        "plt.figure(figsize=(8, 6))\n",
        "for i in range(n_classes):\n",
        "    plt.plot(fpr[i], tpr[i], label=f\"Class {label_encoder.classes_[i]} (AUC = {roc_auc[i]:.2f})\")\n",
        "\n",
        "plt.plot([0, 1], [0, 1], 'k--')  # Diagonal line\n",
        "plt.xlim([0.0, 1.0])\n",
        "plt.ylim([0.0, 1.05])\n",
        "plt.xlabel('False Positive Rate')\n",
        "plt.ylabel('True Positive Rate')\n",
        "plt.title('ROC Curve - LightGBM')\n",
        "plt.legend(loc='lower right')\n",
        "plt.grid()\n",
        "plt.tight_layout()\n",
        "plt.show()"
      ]
    },
    {
      "cell_type": "markdown",
      "id": "653623e1",
      "metadata": {},
      "source": [
        ">  . The tuned LightGBM model achieved an **accuracy** of **86.4%**\n",
        "\n",
        ">  . **Skin (F1 = 0.90)** had the highest performance with excellent **recall (0.91)**\n",
        "\n",
        ">  . **Mouth (F1 = 0.87)** and **Stool (F1 = 0.86)** also showed **balanced precision** and **recall**\n",
        "\n",
        ">  . **Nasal (F1 = 0.83)** again had **slightly lower recall (0.79)**, indicating occasional confusion with other classes\n",
        "\n",
        ">  .  **Macro** and **weighted** averages **(0.86–0.87)** confirm balanced predictions across all categories, with no strong bias toward a single class"
      ]
    },
    {
      "cell_type": "markdown",
      "id": "3ee9376e",
      "metadata": {},
      "source": [
        "#### **SHAP(SHapley Additive exPlanations) Explainer**"
      ]
    },
    {
      "cell_type": "code",
      "execution_count": 43,
      "id": "1a6197ed",
      "metadata": {},
      "outputs": [
        {
          "data": {
            "image/png": "[encoded data removed]",
            "text/plain": [
              "<Figure size 576x684 with 1 Axes>"
            ]
          },
          "metadata": {
            "needs_background": "light"
          },
          "output_type": "display_data"
        }
      ],
      "source": [
        "# Sample 1500 records to compute SHAP\n",
        "X_sample = X_train.sample(n=1500, random_state=42)\n",
        "explainer = shap.TreeExplainer(best_lgb)\n",
        "shap_values = explainer.shap_values(X_sample)\n",
        "\n",
        "# Plot summary\n",
        "shap.summary_plot(shap_values, X_sample)\n"
      ]
    },
    {
      "cell_type": "markdown",
      "id": "5bf412c1",
      "metadata": {},
      "source": [
        "**Feature Importance (SHAP/LighGBM Plot)**\n",
        "\n",
        " > . The plot above shows that your most influential features used by the model(LightGBM - Tuned) in predicting microbiome sample type (Mouth, Nasal, Skin, Stool) are:\n",
        "\n",
        "| Feature                  | Notes                                                                             |\n",
        "| ------------------------ | --------------------------------------------------------------------------------- |\n",
        "| **avg\\_read\\_length**    | Most influential — possibly reflects sequencing protocol or sample complexity. |\n",
        "| **gc\\_content**          | Strongly indicative of microbial composition.                                     |\n",
        "| **read\\_count**          | A proxy for sequencing depth, which can hint at biomass or complexity.            |\n",
        "| **Adj\\_age**             | Possibly reflects host factors affecting microbiome.                              |\n",
        "| Others (OGTT, BMI, etc.) | Minor contributions — possibly useful in ensemble or stacked models.              |\n",
        "\n",
        "\n",
        " > . Biological features (cytokines, metadata) have low influence compared to sequence-derived stats. This suggests the sequencing features carry the bulk of predictive signal."
      ]
    },
    {
      "cell_type": "markdown",
      "id": "29f0f422",
      "metadata": {},
      "source": [
        "### **Save Best Model**"
      ]
    },
    {
      "cell_type": "code",
      "execution_count": null,
      "id": "ac7fe48c",
      "metadata": {},
      "outputs": [
        {
          "name": "stdout",
          "output_type": "stream",
          "text": [
            " Tuned XGBoost model saved as 'xgboost_tuned_model.pkl'\n"
          ]
        }
      ],
      "source": [
        "import joblib\n",
        "\n",
        "# Save model\n",
        "joblib.dump(best_xgb, \"xgboost_tuned_model.pkl\")\n",
        "print(\" Tuned XGBoost model saved as 'xgboost_tuned_model.pkl'\")\n"
      ]
    },
    {
      "cell_type": "markdown",
      "id": "193d07e0",
      "metadata": {},
      "source": [
        "## **Deployment**"
      ]
    },
    {
      "cell_type": "markdown",
      "id": "9365bf55",
      "metadata": {},
      "source": [
        " >  . We have reached the final step of the project, Here we will deploy our **tuned XGBoost model** using **Gradio**, a Python library that allows us to quickly build interactive and visually appealing web apps for ML models."
      ]
    },
    {
      "cell_type": "code",
      "execution_count": 60,
      "id": "3d8a60ad",
      "metadata": {},
      "outputs": [
        {
          "name": "stdout",
          "output_type": "stream",
          "text": [
            "Running on local URL:  http://127.0.0.1:7863\n",
            "Running on public URL: https://42307830adcb1effd2.gradio.live\n",
            "\n",
            "This share link expires in 72 hours. For free permanent hosting and GPU upgrades, run `gradio deploy` from Terminal to deploy to Spaces (https://huggingface.co/spaces)\n"
          ]
        },
        {
          "data": {
            "text/html": [
              "<div><iframe src=\"https://42307830adcb1effd2.gradio.live\" width=\"100%\" height=\"500\" allow=\"autoplay; camera; microphone; clipboard-read; clipboard-write;\" frameborder=\"0\" allowfullscreen></iframe></div>"
            ],
            "text/plain": [
              "<IPython.core.display.HTML object>"
            ]
          },
          "metadata": {},
          "output_type": "display_data"
        },
        {
          "data": {
            "text/plain": []
          },
          "execution_count": 60,
          "metadata": {},
          "output_type": "execute_result"
        }
      ],
      "source": [
        "# Import necessary libraries for Gradio and LIME\n",
        "import gradio as gr\n",
        "import joblib\n",
        "from lime.lime_tabular import LimeTabularExplainer\n",
        "import tempfile\n",
        "import os\n",
        "\n",
        "# Load Model & Prepare feature names and class names\n",
        "model = joblib.load(\"xgboost_tuned_model.pkl\")\n",
        "feature_names = X_train.columns.tolist() \n",
        "class_names = model.classes_.tolist()\n",
        "\n",
        "# Top & Extra Features \n",
        "importance_df = pd.DataFrame({\n",
        "    'feature': feature_names,\n",
        "    'importance': model.feature_importances_\n",
        "}).sort_values(by='importance', ascending=False)\n",
        "\n",
        "TOP_N = 10\n",
        "top_features = importance_df.head(TOP_N)['feature'].tolist()\n",
        "extra_features = [f for f in feature_names if f not in top_features]\n",
        "\n",
        "# LIME Explainer \n",
        "explainer = LimeTabularExplainer(\n",
        "    training_data=np.array(X_train[top_features + extra_features]),\n",
        "    feature_names=top_features + extra_features,\n",
        "    class_names=class_names,\n",
        "    mode=\"classification\"\n",
        ")\n",
        "\n",
        "# Predict & Explain Function \n",
        "def predict_and_explain(*args):\n",
        "    # Unpack flattened args\n",
        "    top_inputs = args[:len(top_features)]\n",
        "    use_extra = args[len(top_features)]\n",
        "    extra_inputs = args[len(top_features)+1:]\n",
        "\n",
        "    # Build input dict\n",
        "    feature_input = {feat: val for feat, val in zip(top_features, top_inputs)}\n",
        "    if use_extra:\n",
        "        feature_input.update({feat: val for feat, val in zip(extra_features, extra_inputs)})\n",
        "    else:\n",
        "        feature_input.update({feat: 0 for feat in extra_features})\n",
        "    \n",
        "    input_df = pd.DataFrame([feature_input])\n",
        "\n",
        "    # Predict\n",
        "    probs = model.predict_proba(input_df)[0]\n",
        "    pred_class = class_names[np.argmax(probs)]\n",
        "\n",
        "    # Probability Chart\n",
        "    fig, ax = plt.subplots(figsize=(5, 4))\n",
        "    colors = ['lightgray'] * len(class_names)\n",
        "    colors[np.argmax(probs)] = 'skyblue'\n",
        "    sns.barplot(x=probs, y=class_names, palette=colors, ax=ax)\n",
        "    ax.set_xlim(0, 1)\n",
        "    ax.set_xlabel(\"Probability\")\n",
        "    ax.set_title(\"Prediction Probabilities\")\n",
        "    plt.tight_layout()\n",
        "    prob_chart_path = os.path.join(tempfile.gettempdir(), \"prob_chart.png\")\n",
        "    plt.savefig(prob_chart_path)\n",
        "    plt.close(fig)\n",
        "\n",
        "    # LIME Explanation\n",
        "    exp = explainer.explain_instance(\n",
        "        data_row=input_df.values[0],\n",
        "        predict_fn=model.predict_proba,\n",
        "        num_features=TOP_N\n",
        "    )\n",
        "    lime_html_path = os.path.join(tempfile.gettempdir(), \"lime_explanation.html\")\n",
        "    exp.save_to_file(lime_html_path)\n",
        "    with open(lime_html_path, \"r\", encoding=\"utf-8\") as f:\n",
        "        lime_html = f.read()\n",
        "    lime_html_iframe = f\"\"\"\n",
        "    <iframe srcdoc='{lime_html.replace(\"'\", \"&apos;\")}' \n",
        "            width=\"100%\" height=\"500px\" style=\"border:none;\"></iframe>\n",
        "    \"\"\"\n",
        "\n",
        "    return pred_class, prob_chart_path, lime_html_iframe\n",
        "\n",
        "# Gradio UI \n",
        "with gr.Blocks(theme=gr.themes.Soft()) as demo:\n",
        "    # Title\n",
        "    gr.HTML(\"\"\"\n",
        "    <div style=\"text-align: center; padding: 15px; \n",
        "                background: linear-gradient(90deg, #2c5364, #203a43, #0f2027); \n",
        "                color: white; border-radius: 10px;\">\n",
        "        <h1>🧬 Microbiome Sample Classifier</h1>\n",
        "        <p>Powered by Tuned <b>XGBoost</b> with Interactive <b>LIME Explainability</b></p>\n",
        "    </div>\n",
        "    \"\"\")\n",
        "\n",
        "    with gr.Row():\n",
        "        with gr.Column(scale=1):\n",
        "            gr.Markdown(\"### ✏️ Enter Top Feature Values\")\n",
        "            top_inputs = [gr.Number(label=feat) for feat in top_features]\n",
        "\n",
        "            gr.Markdown(\"### ⚙️ Additional Features (Optional)\")\n",
        "            use_extra = gr.Checkbox(label=\"Enable Additional Features\", value=False)\n",
        "            extra_inputs = [gr.Number(label=feat, visible=False) for feat in extra_features]\n",
        "\n",
        "            def toggle_extra(enable):\n",
        "                return [gr.update(visible=enable) for _ in extra_inputs]\n",
        "            use_extra.change(fn=toggle_extra, inputs=use_extra, outputs=extra_inputs)\n",
        "\n",
        "            predict_btn = gr.Button(\"🚀 Predict\", variant=\"primary\")\n",
        "\n",
        "        with gr.Column(scale=2):\n",
        "            with gr.Tabs():\n",
        "                with gr.Tab(\"📊 Prediction Results\"):\n",
        "                    output_label = gr.Label(label=\"Predicted Class\")\n",
        "                    output_chart = gr.Image(label=\"Class Probabilities\")\n",
        "                with gr.Tab(\"🧠 LIME Explanation\"):\n",
        "                    output_lime = gr.HTML(label=\"LIME Explanation\")\n",
        "\n",
        "    # Flattened inputs \n",
        "    predict_btn.click(\n",
        "        fn=predict_and_explain,\n",
        "        inputs=top_inputs + [use_extra] + extra_inputs,\n",
        "        outputs=[output_label, output_chart, output_lime]\n",
        "    )\n",
        "\n",
        "# Launch the Gradio app\n",
        "demo.launch(share = True )\n"
      ]
    },
    {
      "cell_type": "markdown",
      "id": "fe2d527c",
      "metadata": {},
      "source": [
        "## **Conclusion**"
      ]
    },
    {
      "cell_type": "markdown",
      "id": "2d56acf9",
      "metadata": {},
      "source": [
        "   >. This project successfully developed a microbiome sample classification system capable of accurately predicting sample sources (Mouth, Nasal, Skin, Stool) using advanced machine learning techniques.\n",
        "\n",
        "   >. After evaluating multiple models — including Random Forest, LightGBM, and XGBoost — the tuned XGBoost classifier achieved the best performance, with an accuracy of 86.9% and balanced precision, recall, and F1-scores across all classes. The model’s high predictive power, combined with interactive LIME explainability, ensures transparency and interpretability of predictions, making it suitable for practical deployment.\n",
        "\n",
        "   >. The integration of an interactive Gradio web application further enhances usability, allowing non-technical stakeholders to easily run predictions, visualize class probabilities, and understand model reasoning.\n",
        "\n",
        "   >. This pipeline demonstrates the value of combining robust modeling with explainability to support evidence-based decision-making in microbiome research and diagnostics."
      ]
    }
  ],
  "metadata": {
    "accelerator": "GPU",
    "colab": {
      "gpuType": "T4",
      "provenance": []
    },
    "kernelspec": {
      "display_name": "learn-env",
      "language": "python",
      "name": "python3"
    },
    "language_info": {
      "codemirror_mode": {
        "name": "ipython",
        "version": 3
      },
      "file_extension": ".py",
      "mimetype": "text/x-python",
      "name": "python",
      "nbconvert_exporter": "python",
      "pygments_lexer": "ipython3",
      "version": "3.8.5"
    }
  },
  "nbformat": 4,
  "nbformat_minor": 5
}
